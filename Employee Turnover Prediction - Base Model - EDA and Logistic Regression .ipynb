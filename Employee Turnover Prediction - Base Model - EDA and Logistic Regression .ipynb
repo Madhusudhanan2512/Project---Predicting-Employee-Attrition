{
 "cells": [
  {
   "cell_type": "code",
   "execution_count": 46,
   "id": "493e19fc",
   "metadata": {},
   "outputs": [],
   "source": [
    "import numpy as np\n",
    "import pandas as pd\n",
    "import matplotlib.pyplot as plt\n",
    "import seaborn as sns\n",
    "import warnings\n",
    "warnings.filterwarnings(action='ignore')"
   ]
  },
  {
   "cell_type": "code",
   "execution_count": 47,
   "id": "22684073",
   "metadata": {},
   "outputs": [
    {
     "data": {
      "text/html": [
       "<div>\n",
       "<style scoped>\n",
       "    .dataframe tbody tr th:only-of-type {\n",
       "        vertical-align: middle;\n",
       "    }\n",
       "\n",
       "    .dataframe tbody tr th {\n",
       "        vertical-align: top;\n",
       "    }\n",
       "\n",
       "    .dataframe thead th {\n",
       "        text-align: right;\n",
       "    }\n",
       "</style>\n",
       "<table border=\"1\" class=\"dataframe\">\n",
       "  <thead>\n",
       "    <tr style=\"text-align: right;\">\n",
       "      <th></th>\n",
       "      <th>Age</th>\n",
       "      <th>Attrition</th>\n",
       "      <th>BusinessTravel</th>\n",
       "      <th>DailyRate</th>\n",
       "      <th>Department</th>\n",
       "      <th>DistanceFromHome</th>\n",
       "      <th>Education</th>\n",
       "      <th>EducationField</th>\n",
       "      <th>EmployeeCount</th>\n",
       "      <th>EmployeeNumber</th>\n",
       "      <th>...</th>\n",
       "      <th>RelationshipSatisfaction</th>\n",
       "      <th>StandardHours</th>\n",
       "      <th>StockOptionLevel</th>\n",
       "      <th>TotalWorkingYears</th>\n",
       "      <th>TrainingTimesLastYear</th>\n",
       "      <th>WorkLifeBalance</th>\n",
       "      <th>YearsAtCompany</th>\n",
       "      <th>YearsInCurrentRole</th>\n",
       "      <th>YearsSinceLastPromotion</th>\n",
       "      <th>YearsWithCurrManager</th>\n",
       "    </tr>\n",
       "  </thead>\n",
       "  <tbody>\n",
       "    <tr>\n",
       "      <th>0</th>\n",
       "      <td>41</td>\n",
       "      <td>Yes</td>\n",
       "      <td>Travel_Rarely</td>\n",
       "      <td>1102</td>\n",
       "      <td>Sales</td>\n",
       "      <td>1</td>\n",
       "      <td>2</td>\n",
       "      <td>Life Sciences</td>\n",
       "      <td>1</td>\n",
       "      <td>1</td>\n",
       "      <td>...</td>\n",
       "      <td>1</td>\n",
       "      <td>80</td>\n",
       "      <td>0</td>\n",
       "      <td>8</td>\n",
       "      <td>0</td>\n",
       "      <td>1</td>\n",
       "      <td>6</td>\n",
       "      <td>4</td>\n",
       "      <td>0</td>\n",
       "      <td>5</td>\n",
       "    </tr>\n",
       "    <tr>\n",
       "      <th>1</th>\n",
       "      <td>49</td>\n",
       "      <td>No</td>\n",
       "      <td>Travel_Frequently</td>\n",
       "      <td>279</td>\n",
       "      <td>Research &amp; Development</td>\n",
       "      <td>8</td>\n",
       "      <td>1</td>\n",
       "      <td>Life Sciences</td>\n",
       "      <td>1</td>\n",
       "      <td>2</td>\n",
       "      <td>...</td>\n",
       "      <td>4</td>\n",
       "      <td>80</td>\n",
       "      <td>1</td>\n",
       "      <td>10</td>\n",
       "      <td>3</td>\n",
       "      <td>3</td>\n",
       "      <td>10</td>\n",
       "      <td>7</td>\n",
       "      <td>1</td>\n",
       "      <td>7</td>\n",
       "    </tr>\n",
       "    <tr>\n",
       "      <th>2</th>\n",
       "      <td>37</td>\n",
       "      <td>Yes</td>\n",
       "      <td>Travel_Rarely</td>\n",
       "      <td>1373</td>\n",
       "      <td>Research &amp; Development</td>\n",
       "      <td>2</td>\n",
       "      <td>2</td>\n",
       "      <td>Other</td>\n",
       "      <td>1</td>\n",
       "      <td>4</td>\n",
       "      <td>...</td>\n",
       "      <td>2</td>\n",
       "      <td>80</td>\n",
       "      <td>0</td>\n",
       "      <td>7</td>\n",
       "      <td>3</td>\n",
       "      <td>3</td>\n",
       "      <td>0</td>\n",
       "      <td>0</td>\n",
       "      <td>0</td>\n",
       "      <td>0</td>\n",
       "    </tr>\n",
       "    <tr>\n",
       "      <th>3</th>\n",
       "      <td>33</td>\n",
       "      <td>No</td>\n",
       "      <td>Travel_Frequently</td>\n",
       "      <td>1392</td>\n",
       "      <td>Research &amp; Development</td>\n",
       "      <td>3</td>\n",
       "      <td>4</td>\n",
       "      <td>Life Sciences</td>\n",
       "      <td>1</td>\n",
       "      <td>5</td>\n",
       "      <td>...</td>\n",
       "      <td>3</td>\n",
       "      <td>80</td>\n",
       "      <td>0</td>\n",
       "      <td>8</td>\n",
       "      <td>3</td>\n",
       "      <td>3</td>\n",
       "      <td>8</td>\n",
       "      <td>7</td>\n",
       "      <td>3</td>\n",
       "      <td>0</td>\n",
       "    </tr>\n",
       "    <tr>\n",
       "      <th>4</th>\n",
       "      <td>27</td>\n",
       "      <td>No</td>\n",
       "      <td>Travel_Rarely</td>\n",
       "      <td>591</td>\n",
       "      <td>Research &amp; Development</td>\n",
       "      <td>2</td>\n",
       "      <td>1</td>\n",
       "      <td>Medical</td>\n",
       "      <td>1</td>\n",
       "      <td>7</td>\n",
       "      <td>...</td>\n",
       "      <td>4</td>\n",
       "      <td>80</td>\n",
       "      <td>1</td>\n",
       "      <td>6</td>\n",
       "      <td>3</td>\n",
       "      <td>3</td>\n",
       "      <td>2</td>\n",
       "      <td>2</td>\n",
       "      <td>2</td>\n",
       "      <td>2</td>\n",
       "    </tr>\n",
       "    <tr>\n",
       "      <th>5</th>\n",
       "      <td>32</td>\n",
       "      <td>No</td>\n",
       "      <td>Travel_Frequently</td>\n",
       "      <td>1005</td>\n",
       "      <td>Research &amp; Development</td>\n",
       "      <td>2</td>\n",
       "      <td>2</td>\n",
       "      <td>Life Sciences</td>\n",
       "      <td>1</td>\n",
       "      <td>8</td>\n",
       "      <td>...</td>\n",
       "      <td>3</td>\n",
       "      <td>80</td>\n",
       "      <td>0</td>\n",
       "      <td>8</td>\n",
       "      <td>2</td>\n",
       "      <td>2</td>\n",
       "      <td>7</td>\n",
       "      <td>7</td>\n",
       "      <td>3</td>\n",
       "      <td>6</td>\n",
       "    </tr>\n",
       "    <tr>\n",
       "      <th>6</th>\n",
       "      <td>59</td>\n",
       "      <td>No</td>\n",
       "      <td>Travel_Rarely</td>\n",
       "      <td>1324</td>\n",
       "      <td>Research &amp; Development</td>\n",
       "      <td>3</td>\n",
       "      <td>3</td>\n",
       "      <td>Medical</td>\n",
       "      <td>1</td>\n",
       "      <td>10</td>\n",
       "      <td>...</td>\n",
       "      <td>1</td>\n",
       "      <td>80</td>\n",
       "      <td>3</td>\n",
       "      <td>12</td>\n",
       "      <td>3</td>\n",
       "      <td>2</td>\n",
       "      <td>1</td>\n",
       "      <td>0</td>\n",
       "      <td>0</td>\n",
       "      <td>0</td>\n",
       "    </tr>\n",
       "    <tr>\n",
       "      <th>7</th>\n",
       "      <td>30</td>\n",
       "      <td>No</td>\n",
       "      <td>Travel_Rarely</td>\n",
       "      <td>1358</td>\n",
       "      <td>Research &amp; Development</td>\n",
       "      <td>24</td>\n",
       "      <td>1</td>\n",
       "      <td>Life Sciences</td>\n",
       "      <td>1</td>\n",
       "      <td>11</td>\n",
       "      <td>...</td>\n",
       "      <td>2</td>\n",
       "      <td>80</td>\n",
       "      <td>1</td>\n",
       "      <td>1</td>\n",
       "      <td>2</td>\n",
       "      <td>3</td>\n",
       "      <td>1</td>\n",
       "      <td>0</td>\n",
       "      <td>0</td>\n",
       "      <td>0</td>\n",
       "    </tr>\n",
       "    <tr>\n",
       "      <th>8</th>\n",
       "      <td>38</td>\n",
       "      <td>No</td>\n",
       "      <td>Travel_Frequently</td>\n",
       "      <td>216</td>\n",
       "      <td>Research &amp; Development</td>\n",
       "      <td>23</td>\n",
       "      <td>3</td>\n",
       "      <td>Life Sciences</td>\n",
       "      <td>1</td>\n",
       "      <td>12</td>\n",
       "      <td>...</td>\n",
       "      <td>2</td>\n",
       "      <td>80</td>\n",
       "      <td>0</td>\n",
       "      <td>10</td>\n",
       "      <td>2</td>\n",
       "      <td>3</td>\n",
       "      <td>9</td>\n",
       "      <td>7</td>\n",
       "      <td>1</td>\n",
       "      <td>8</td>\n",
       "    </tr>\n",
       "    <tr>\n",
       "      <th>9</th>\n",
       "      <td>36</td>\n",
       "      <td>No</td>\n",
       "      <td>Travel_Rarely</td>\n",
       "      <td>1299</td>\n",
       "      <td>Research &amp; Development</td>\n",
       "      <td>27</td>\n",
       "      <td>3</td>\n",
       "      <td>Medical</td>\n",
       "      <td>1</td>\n",
       "      <td>13</td>\n",
       "      <td>...</td>\n",
       "      <td>2</td>\n",
       "      <td>80</td>\n",
       "      <td>2</td>\n",
       "      <td>17</td>\n",
       "      <td>3</td>\n",
       "      <td>2</td>\n",
       "      <td>7</td>\n",
       "      <td>7</td>\n",
       "      <td>7</td>\n",
       "      <td>7</td>\n",
       "    </tr>\n",
       "  </tbody>\n",
       "</table>\n",
       "<p>10 rows × 35 columns</p>\n",
       "</div>"
      ],
      "text/plain": [
       "   Age Attrition     BusinessTravel  DailyRate              Department  \\\n",
       "0   41       Yes      Travel_Rarely       1102                   Sales   \n",
       "1   49        No  Travel_Frequently        279  Research & Development   \n",
       "2   37       Yes      Travel_Rarely       1373  Research & Development   \n",
       "3   33        No  Travel_Frequently       1392  Research & Development   \n",
       "4   27        No      Travel_Rarely        591  Research & Development   \n",
       "5   32        No  Travel_Frequently       1005  Research & Development   \n",
       "6   59        No      Travel_Rarely       1324  Research & Development   \n",
       "7   30        No      Travel_Rarely       1358  Research & Development   \n",
       "8   38        No  Travel_Frequently        216  Research & Development   \n",
       "9   36        No      Travel_Rarely       1299  Research & Development   \n",
       "\n",
       "   DistanceFromHome  Education EducationField  EmployeeCount  EmployeeNumber  \\\n",
       "0                 1          2  Life Sciences              1               1   \n",
       "1                 8          1  Life Sciences              1               2   \n",
       "2                 2          2          Other              1               4   \n",
       "3                 3          4  Life Sciences              1               5   \n",
       "4                 2          1        Medical              1               7   \n",
       "5                 2          2  Life Sciences              1               8   \n",
       "6                 3          3        Medical              1              10   \n",
       "7                24          1  Life Sciences              1              11   \n",
       "8                23          3  Life Sciences              1              12   \n",
       "9                27          3        Medical              1              13   \n",
       "\n",
       "   ...  RelationshipSatisfaction StandardHours  StockOptionLevel  \\\n",
       "0  ...                         1            80                 0   \n",
       "1  ...                         4            80                 1   \n",
       "2  ...                         2            80                 0   \n",
       "3  ...                         3            80                 0   \n",
       "4  ...                         4            80                 1   \n",
       "5  ...                         3            80                 0   \n",
       "6  ...                         1            80                 3   \n",
       "7  ...                         2            80                 1   \n",
       "8  ...                         2            80                 0   \n",
       "9  ...                         2            80                 2   \n",
       "\n",
       "   TotalWorkingYears  TrainingTimesLastYear WorkLifeBalance  YearsAtCompany  \\\n",
       "0                  8                      0               1               6   \n",
       "1                 10                      3               3              10   \n",
       "2                  7                      3               3               0   \n",
       "3                  8                      3               3               8   \n",
       "4                  6                      3               3               2   \n",
       "5                  8                      2               2               7   \n",
       "6                 12                      3               2               1   \n",
       "7                  1                      2               3               1   \n",
       "8                 10                      2               3               9   \n",
       "9                 17                      3               2               7   \n",
       "\n",
       "  YearsInCurrentRole  YearsSinceLastPromotion  YearsWithCurrManager  \n",
       "0                  4                        0                     5  \n",
       "1                  7                        1                     7  \n",
       "2                  0                        0                     0  \n",
       "3                  7                        3                     0  \n",
       "4                  2                        2                     2  \n",
       "5                  7                        3                     6  \n",
       "6                  0                        0                     0  \n",
       "7                  0                        0                     0  \n",
       "8                  7                        1                     8  \n",
       "9                  7                        7                     7  \n",
       "\n",
       "[10 rows x 35 columns]"
      ]
     },
     "execution_count": 47,
     "metadata": {},
     "output_type": "execute_result"
    }
   ],
   "source": [
    "data = pd.read_csv(\"D:/data/HR-Employee-Attrition.csv\",header=0)\n",
    "data.head(10)"
   ]
  },
  {
   "cell_type": "code",
   "execution_count": 48,
   "id": "8f60ff6d",
   "metadata": {},
   "outputs": [
    {
     "data": {
      "text/plain": [
       "(1470, 35)"
      ]
     },
     "execution_count": 48,
     "metadata": {},
     "output_type": "execute_result"
    }
   ],
   "source": [
    "data.shape"
   ]
  },
  {
   "cell_type": "code",
   "execution_count": 49,
   "id": "3559f669",
   "metadata": {},
   "outputs": [
    {
     "name": "stdout",
     "output_type": "stream",
     "text": [
      "<class 'pandas.core.frame.DataFrame'>\n",
      "RangeIndex: 1470 entries, 0 to 1469\n",
      "Data columns (total 35 columns):\n",
      " #   Column                    Non-Null Count  Dtype \n",
      "---  ------                    --------------  ----- \n",
      " 0   Age                       1470 non-null   int64 \n",
      " 1   Attrition                 1470 non-null   object\n",
      " 2   BusinessTravel            1470 non-null   object\n",
      " 3   DailyRate                 1470 non-null   int64 \n",
      " 4   Department                1470 non-null   object\n",
      " 5   DistanceFromHome          1470 non-null   int64 \n",
      " 6   Education                 1470 non-null   int64 \n",
      " 7   EducationField            1470 non-null   object\n",
      " 8   EmployeeCount             1470 non-null   int64 \n",
      " 9   EmployeeNumber            1470 non-null   int64 \n",
      " 10  EnvironmentSatisfaction   1470 non-null   int64 \n",
      " 11  Gender                    1470 non-null   object\n",
      " 12  HourlyRate                1470 non-null   int64 \n",
      " 13  JobInvolvement            1470 non-null   int64 \n",
      " 14  JobLevel                  1470 non-null   int64 \n",
      " 15  JobRole                   1470 non-null   object\n",
      " 16  JobSatisfaction           1470 non-null   int64 \n",
      " 17  MaritalStatus             1470 non-null   object\n",
      " 18  MonthlyIncome             1470 non-null   int64 \n",
      " 19  MonthlyRate               1470 non-null   int64 \n",
      " 20  NumCompaniesWorked        1470 non-null   int64 \n",
      " 21  Over18                    1470 non-null   object\n",
      " 22  OverTime                  1470 non-null   object\n",
      " 23  PercentSalaryHike         1470 non-null   int64 \n",
      " 24  PerformanceRating         1470 non-null   int64 \n",
      " 25  RelationshipSatisfaction  1470 non-null   int64 \n",
      " 26  StandardHours             1470 non-null   int64 \n",
      " 27  StockOptionLevel          1470 non-null   int64 \n",
      " 28  TotalWorkingYears         1470 non-null   int64 \n",
      " 29  TrainingTimesLastYear     1470 non-null   int64 \n",
      " 30  WorkLifeBalance           1470 non-null   int64 \n",
      " 31  YearsAtCompany            1470 non-null   int64 \n",
      " 32  YearsInCurrentRole        1470 non-null   int64 \n",
      " 33  YearsSinceLastPromotion   1470 non-null   int64 \n",
      " 34  YearsWithCurrManager      1470 non-null   int64 \n",
      "dtypes: int64(26), object(9)\n",
      "memory usage: 402.1+ KB\n"
     ]
    }
   ],
   "source": [
    "data.info()"
   ]
  },
  {
   "cell_type": "code",
   "execution_count": 50,
   "id": "3a13cf5f",
   "metadata": {},
   "outputs": [
    {
     "data": {
      "text/plain": [
       "Age                         0\n",
       "Attrition                   0\n",
       "BusinessTravel              0\n",
       "DailyRate                   0\n",
       "Department                  0\n",
       "DistanceFromHome            0\n",
       "Education                   0\n",
       "EducationField              0\n",
       "EmployeeCount               0\n",
       "EmployeeNumber              0\n",
       "EnvironmentSatisfaction     0\n",
       "Gender                      0\n",
       "HourlyRate                  0\n",
       "JobInvolvement              0\n",
       "JobLevel                    0\n",
       "JobRole                     0\n",
       "JobSatisfaction             0\n",
       "MaritalStatus               0\n",
       "MonthlyIncome               0\n",
       "MonthlyRate                 0\n",
       "NumCompaniesWorked          0\n",
       "Over18                      0\n",
       "OverTime                    0\n",
       "PercentSalaryHike           0\n",
       "PerformanceRating           0\n",
       "RelationshipSatisfaction    0\n",
       "StandardHours               0\n",
       "StockOptionLevel            0\n",
       "TotalWorkingYears           0\n",
       "TrainingTimesLastYear       0\n",
       "WorkLifeBalance             0\n",
       "YearsAtCompany              0\n",
       "YearsInCurrentRole          0\n",
       "YearsSinceLastPromotion     0\n",
       "YearsWithCurrManager        0\n",
       "dtype: int64"
      ]
     },
     "execution_count": 50,
     "metadata": {},
     "output_type": "execute_result"
    }
   ],
   "source": [
    "data.isnull().sum()"
   ]
  },
  {
   "cell_type": "code",
   "execution_count": 51,
   "id": "992c57c3",
   "metadata": {},
   "outputs": [
    {
     "data": {
      "text/plain": [
       "0"
      ]
     },
     "execution_count": 51,
     "metadata": {},
     "output_type": "execute_result"
    }
   ],
   "source": [
    "data.duplicated().sum()"
   ]
  },
  {
   "cell_type": "markdown",
   "id": "41b791dd",
   "metadata": {},
   "source": [
    "### Lets check the categorical variables to understand the balance of the data."
   ]
  },
  {
   "cell_type": "code",
   "execution_count": 52,
   "id": "6df0bf3c",
   "metadata": {},
   "outputs": [
    {
     "data": {
      "text/plain": [
       "Travel_Rarely        1043\n",
       "Travel_Frequently     277\n",
       "Non-Travel            150\n",
       "Name: BusinessTravel, dtype: int64"
      ]
     },
     "execution_count": 52,
     "metadata": {},
     "output_type": "execute_result"
    }
   ],
   "source": [
    "data['BusinessTravel'].value_counts()"
   ]
  },
  {
   "cell_type": "code",
   "execution_count": 53,
   "id": "4e2a9c9f",
   "metadata": {},
   "outputs": [
    {
     "data": {
      "text/plain": [
       "Research & Development    961\n",
       "Sales                     446\n",
       "Human Resources            63\n",
       "Name: Department, dtype: int64"
      ]
     },
     "execution_count": 53,
     "metadata": {},
     "output_type": "execute_result"
    }
   ],
   "source": [
    "data['Department'].value_counts()"
   ]
  },
  {
   "cell_type": "code",
   "execution_count": 54,
   "id": "67b3d658",
   "metadata": {},
   "outputs": [
    {
     "data": {
      "text/plain": [
       "No     1233\n",
       "Yes     237\n",
       "Name: Attrition, dtype: int64"
      ]
     },
     "execution_count": 54,
     "metadata": {},
     "output_type": "execute_result"
    }
   ],
   "source": [
    "data['Attrition'].value_counts()"
   ]
  },
  {
   "cell_type": "markdown",
   "id": "7acf9183",
   "metadata": {},
   "source": [
    "- Attrition variable is highly imbalanced, it may effect the model building."
   ]
  },
  {
   "cell_type": "code",
   "execution_count": 55,
   "id": "e12637ce",
   "metadata": {},
   "outputs": [
    {
     "data": {
      "text/plain": [
       "Male      882\n",
       "Female    588\n",
       "Name: Gender, dtype: int64"
      ]
     },
     "execution_count": 55,
     "metadata": {},
     "output_type": "execute_result"
    }
   ],
   "source": [
    "data[\"Gender\"].value_counts()"
   ]
  },
  {
   "cell_type": "code",
   "execution_count": 56,
   "id": "652c21a7",
   "metadata": {},
   "outputs": [
    {
     "data": {
      "text/plain": [
       "Sales Executive              326\n",
       "Research Scientist           292\n",
       "Laboratory Technician        259\n",
       "Manufacturing Director       145\n",
       "Healthcare Representative    131\n",
       "Manager                      102\n",
       "Sales Representative          83\n",
       "Research Director             80\n",
       "Human Resources               52\n",
       "Name: JobRole, dtype: int64"
      ]
     },
     "execution_count": 56,
     "metadata": {},
     "output_type": "execute_result"
    }
   ],
   "source": [
    "data['JobRole'].value_counts()"
   ]
  },
  {
   "cell_type": "code",
   "execution_count": 57,
   "id": "80bc1204",
   "metadata": {},
   "outputs": [
    {
     "data": {
      "text/plain": [
       "Married     673\n",
       "Single      470\n",
       "Divorced    327\n",
       "Name: MaritalStatus, dtype: int64"
      ]
     },
     "execution_count": 57,
     "metadata": {},
     "output_type": "execute_result"
    }
   ],
   "source": [
    "data['MaritalStatus'].value_counts()"
   ]
  },
  {
   "cell_type": "code",
   "execution_count": 58,
   "id": "0a8b2d53",
   "metadata": {},
   "outputs": [
    {
     "data": {
      "text/plain": [
       "Y    1470\n",
       "Name: Over18, dtype: int64"
      ]
     },
     "execution_count": 58,
     "metadata": {},
     "output_type": "execute_result"
    }
   ],
   "source": [
    "data[\"Over18\"].value_counts()"
   ]
  },
  {
   "cell_type": "markdown",
   "id": "2712b110",
   "metadata": {},
   "source": [
    "- Since everyone are over 18, it is not going to help us in understanding the turnover so dropping over18 column"
   ]
  },
  {
   "cell_type": "code",
   "execution_count": 59,
   "id": "fcbbe489",
   "metadata": {},
   "outputs": [
    {
     "data": {
      "text/plain": [
       "No     1054\n",
       "Yes     416\n",
       "Name: OverTime, dtype: int64"
      ]
     },
     "execution_count": 59,
     "metadata": {},
     "output_type": "execute_result"
    }
   ],
   "source": [
    "data['OverTime'].value_counts()"
   ]
  },
  {
   "cell_type": "code",
   "execution_count": 60,
   "id": "1c468c32",
   "metadata": {},
   "outputs": [
    {
     "data": {
      "text/plain": [
       "4    459\n",
       "3    442\n",
       "1    289\n",
       "2    280\n",
       "Name: JobSatisfaction, dtype: int64"
      ]
     },
     "execution_count": 60,
     "metadata": {},
     "output_type": "execute_result"
    }
   ],
   "source": [
    "data['JobSatisfaction'].value_counts()"
   ]
  },
  {
   "cell_type": "code",
   "execution_count": 61,
   "id": "8b1129f6",
   "metadata": {},
   "outputs": [
    {
     "data": {
      "text/plain": [
       "array([0, 1, 3, 2], dtype=int64)"
      ]
     },
     "execution_count": 61,
     "metadata": {},
     "output_type": "execute_result"
    }
   ],
   "source": [
    "data['StockOptionLevel'].unique()"
   ]
  },
  {
   "cell_type": "code",
   "execution_count": 62,
   "id": "f985bded",
   "metadata": {},
   "outputs": [
    {
     "data": {
      "text/plain": [
       "array([1, 3, 2, 4], dtype=int64)"
      ]
     },
     "execution_count": 62,
     "metadata": {},
     "output_type": "execute_result"
    }
   ],
   "source": [
    "data[\"WorkLifeBalance\"].unique()"
   ]
  },
  {
   "cell_type": "code",
   "execution_count": 63,
   "id": "c3e3df3b",
   "metadata": {},
   "outputs": [
    {
     "data": {
      "text/plain": [
       "3    459\n",
       "4    432\n",
       "2    303\n",
       "1    276\n",
       "Name: RelationshipSatisfaction, dtype: int64"
      ]
     },
     "execution_count": 63,
     "metadata": {},
     "output_type": "execute_result"
    }
   ],
   "source": [
    "data[\"RelationshipSatisfaction\"].value_counts()"
   ]
  },
  {
   "cell_type": "code",
   "execution_count": 64,
   "id": "7919087f",
   "metadata": {},
   "outputs": [
    {
     "data": {
      "text/plain": [
       "Life Sciences       606\n",
       "Medical             464\n",
       "Marketing           159\n",
       "Technical Degree    132\n",
       "Other                82\n",
       "Human Resources      27\n",
       "Name: EducationField, dtype: int64"
      ]
     },
     "execution_count": 64,
     "metadata": {},
     "output_type": "execute_result"
    }
   ],
   "source": [
    "data['EducationField'].value_counts()"
   ]
  },
  {
   "cell_type": "markdown",
   "id": "338ecd76",
   "metadata": {},
   "source": [
    "### Metrics and KPIs"
   ]
  },
  {
   "cell_type": "markdown",
   "id": "4d9c6008",
   "metadata": {},
   "source": [
    "#### Attriton rate: "
   ]
  },
  {
   "cell_type": "code",
   "execution_count": 65,
   "id": "c2a3fa38",
   "metadata": {},
   "outputs": [
    {
     "data": {
      "text/plain": [
       "No     83.877551\n",
       "Yes    16.122449\n",
       "Name: Attrition, dtype: float64"
      ]
     },
     "execution_count": 65,
     "metadata": {},
     "output_type": "execute_result"
    }
   ],
   "source": [
    "data['Attrition'].value_counts()/len(data)*100"
   ]
  },
  {
   "cell_type": "code",
   "execution_count": 66,
   "id": "d456dcb4",
   "metadata": {},
   "outputs": [],
   "source": [
    "data['Attrition'] = data['Attrition'].map(\n",
    "                                   {'No':0,'Yes':1})"
   ]
  },
  {
   "cell_type": "code",
   "execution_count": 67,
   "id": "37d062de",
   "metadata": {},
   "outputs": [
    {
     "data": {
      "image/png": "[encoded data removed]",
      "text/plain": [
       "<Figure size 640x480 with 1 Axes>"
      ]
     },
     "metadata": {},
     "output_type": "display_data"
    }
   ],
   "source": [
    "sns.set(style='darkgrid')\n",
    "ax = sns.countplot(x=\"Attrition\",data=data,palette ={0:'green',1:'red'})\n",
    "\n",
    "total = len(data['Attrition'])\n",
    "for p in ax.patches:\n",
    "    height = p.get_height()\n",
    "    ax.text(p.get_x() + p.get_width() /2., height + 0.1,\n",
    "           f'{height/total:.1%}', ha = \"center\",va = 'bottom')\n",
    "    \n",
    "plt.xlabel('Employee Turnover')\n",
    "plt.ylabel('Count')\n",
    "plt.title('Trunover Distribution')\n",
    "\n",
    "ax.set_xticklabels(['Retained', 'Left'])\n",
    "plt.show()    "
   ]
  },
  {
   "cell_type": "code",
   "execution_count": 68,
   "id": "dfc8805a",
   "metadata": {},
   "outputs": [
    {
     "data": {
      "image/png": "[encoded data removed]",
      "text/plain": [
       "<Figure size 910x650 with 1 Axes>"
      ]
     },
     "metadata": {},
     "output_type": "display_data"
    }
   ],
   "source": [
    "# Lets check department wise attrition rate\n",
    "\n",
    "plt.figure(figsize=(7,5),dpi=130)\n",
    "ax = sns.countplot(x=\"Department\",hue=\"Attrition\",data=data,palette=\"deep\")\n",
    "\n",
    "total = len(data['Department'])\n",
    "for p in ax.patches:\n",
    "    height = p.get_height()\n",
    "    ax.text(p.get_x() + p.get_width() / 2.,\n",
    "            height + 3,\n",
    "            f'{height/total:.1%}',\n",
    "            ha=\"center\")\n",
    "\n",
    "plt.title('Department-wise Attrition Rate')\n",
    "plt.xlabel('Department')\n",
    "plt.ylabel('Count')\n",
    "plt.show()"
   ]
  },
  {
   "cell_type": "markdown",
   "id": "8601e9c1",
   "metadata": {},
   "source": [
    "- From the above graph we can clearly see that the R&D department have high attrition.\n",
    "\n",
    "- We can also see that 56% of employee were retained in the department, Which is a good indicator of employee engagement."
   ]
  },
  {
   "cell_type": "markdown",
   "id": "79db5408",
   "metadata": {},
   "source": [
    "### Tenure "
   ]
  },
  {
   "cell_type": "code",
   "execution_count": 69,
   "id": "c8a0eb6b",
   "metadata": {},
   "outputs": [
    {
     "data": {
      "text/plain": [
       "count    1470.000000\n",
       "mean        7.008163\n",
       "std         6.126525\n",
       "min         0.000000\n",
       "25%         3.000000\n",
       "50%         5.000000\n",
       "75%         9.000000\n",
       "max        40.000000\n",
       "Name: YearsAtCompany, dtype: float64"
      ]
     },
     "execution_count": 69,
     "metadata": {},
     "output_type": "execute_result"
    }
   ],
   "source": [
    "data['YearsAtCompany'].describe()"
   ]
  },
  {
   "cell_type": "markdown",
   "id": "5371b81a",
   "metadata": {},
   "source": [
    "* The average tenure of an employee is 7 years. \n",
    "\n",
    "* Since the data is skewed coming to a conclusion might not be a good idea.\n",
    "\n",
    "* There is a huge difference between 75 percentile and maximum value. So the data contains outliers, which need to be treated."
   ]
  },
  {
   "cell_type": "markdown",
   "id": "825e3fad",
   "metadata": {},
   "source": [
    "### Time in current role"
   ]
  },
  {
   "cell_type": "code",
   "execution_count": 70,
   "id": "99367dfd",
   "metadata": {},
   "outputs": [
    {
     "data": {
      "text/plain": [
       "count    1470.000000\n",
       "mean        4.229252\n",
       "std         3.623137\n",
       "min         0.000000\n",
       "25%         2.000000\n",
       "50%         3.000000\n",
       "75%         7.000000\n",
       "max        18.000000\n",
       "Name: YearsInCurrentRole, dtype: float64"
      ]
     },
     "execution_count": 70,
     "metadata": {},
     "output_type": "execute_result"
    }
   ],
   "source": [
    "data['YearsInCurrentRole'].describe()"
   ]
  },
  {
   "cell_type": "markdown",
   "id": "8422d4f3",
   "metadata": {},
   "source": [
    "- Here minimum value 0 may refer to the employees who have recently joined.\n",
    "\n",
    "- The maximum value of 18 shows that there is an employee who have been in the current role of 18 years. The 75 percentile is 7 that means majority of the employees have spent more time on current role. \n",
    "\n",
    "- By using the above information the HR stakeholders can plan for job evalaution.\n",
    "\n",
    "- Some employees may need job enrichment.\n",
    "\n",
    "- This variable may significantly contribute to attrition, although that can be only confirmed after model building."
   ]
  },
  {
   "cell_type": "markdown",
   "id": "852f52fc",
   "metadata": {},
   "source": [
    "### Gender diversity ratio"
   ]
  },
  {
   "cell_type": "code",
   "execution_count": 71,
   "id": "9555e574",
   "metadata": {},
   "outputs": [],
   "source": [
    "gender_dist = data['Gender'].value_counts()"
   ]
  },
  {
   "cell_type": "code",
   "execution_count": 72,
   "id": "db3168bc",
   "metadata": {},
   "outputs": [
    {
     "data": {
      "image/png": "[encoded data removed]",
      "text/plain": [
       "<Figure size 520x520 with 1 Axes>"
      ]
     },
     "metadata": {},
     "output_type": "display_data"
    }
   ],
   "source": [
    "plt.figure(figsize=(4,4),dpi=130)\n",
    "plt.pie(gender_dist,labels=gender_dist.index, autopct='%1.1f%%', colors=['skyblue', 'orange'])\n",
    "plt.title('Gender Distribution')\n",
    "plt.show()"
   ]
  },
  {
   "cell_type": "code",
   "execution_count": 73,
   "id": "655c85eb",
   "metadata": {},
   "outputs": [
    {
     "data": {
      "image/png": "[encoded data removed]",
      "text/plain": [
       "<Figure size 780x650 with 1 Axes>"
      ]
     },
     "metadata": {},
     "output_type": "display_data"
    }
   ],
   "source": [
    "plt.figure(figsize=(6,5),dpi=130)\n",
    "ax = sns.countplot(x=\"Department\",hue=\"Gender\",data=data,palette=\"husl\")\n",
    "\n",
    "total = len(data['Department'])\n",
    "for p in ax.patches:\n",
    "    height = p.get_height()\n",
    "    ax.text(p.get_x() + p.get_width() / 2.,\n",
    "            height + 3,\n",
    "            f'{height/total:.1%}',\n",
    "            ha=\"center\")\n",
    "\n",
    "plt.title('Department-wise gender distribution')\n",
    "plt.xlabel('Department')\n",
    "plt.ylabel('Count')\n",
    "plt.show()"
   ]
  },
  {
   "cell_type": "markdown",
   "id": "c3356739",
   "metadata": {},
   "source": [
    "- The gender diversity ratio is 6:4, more female candidates need to be hired to bridge this gap."
   ]
  },
  {
   "cell_type": "markdown",
   "id": "ac1d9831",
   "metadata": {},
   "source": [
    "### Age distribution"
   ]
  },
  {
   "cell_type": "code",
   "execution_count": 74,
   "id": "07240a06",
   "metadata": {},
   "outputs": [
    {
     "data": {
      "image/png": "[encoded data removed]",
      "text/plain": [
       "<Figure size 720x600 with 1 Axes>"
      ]
     },
     "metadata": {},
     "output_type": "display_data"
    }
   ],
   "source": [
    "plt.figure(figsize=(6,5),dpi=120)\n",
    "plt.hist(x='Age',data=data,color='green')\n",
    "plt.title('Age Distribution')\n",
    "plt.xlabel(\"Age\")\n",
    "plt.ylabel(\"count\")\n",
    "plt.show()"
   ]
  },
  {
   "cell_type": "markdown",
   "id": "db94e2c8",
   "metadata": {},
   "source": [
    "- From the above histogram we can see that the majority of the workforce fall between the age group of 30 to 50, which indicates the age diversity in the organisation"
   ]
  },
  {
   "cell_type": "markdown",
   "id": "3f749a80",
   "metadata": {},
   "source": [
    "## Statistical analysis"
   ]
  },
  {
   "cell_type": "code",
   "execution_count": 75,
   "id": "ccc42fd8",
   "metadata": {},
   "outputs": [
    {
     "name": "stdout",
     "output_type": "stream",
     "text": [
      "<class 'pandas.core.frame.DataFrame'>\n",
      "RangeIndex: 1470 entries, 0 to 1469\n",
      "Data columns (total 35 columns):\n",
      " #   Column                    Non-Null Count  Dtype \n",
      "---  ------                    --------------  ----- \n",
      " 0   Age                       1470 non-null   int64 \n",
      " 1   Attrition                 1470 non-null   int64 \n",
      " 2   BusinessTravel            1470 non-null   object\n",
      " 3   DailyRate                 1470 non-null   int64 \n",
      " 4   Department                1470 non-null   object\n",
      " 5   DistanceFromHome          1470 non-null   int64 \n",
      " 6   Education                 1470 non-null   int64 \n",
      " 7   EducationField            1470 non-null   object\n",
      " 8   EmployeeCount             1470 non-null   int64 \n",
      " 9   EmployeeNumber            1470 non-null   int64 \n",
      " 10  EnvironmentSatisfaction   1470 non-null   int64 \n",
      " 11  Gender                    1470 non-null   object\n",
      " 12  HourlyRate                1470 non-null   int64 \n",
      " 13  JobInvolvement            1470 non-null   int64 \n",
      " 14  JobLevel                  1470 non-null   int64 \n",
      " 15  JobRole                   1470 non-null   object\n",
      " 16  JobSatisfaction           1470 non-null   int64 \n",
      " 17  MaritalStatus             1470 non-null   object\n",
      " 18  MonthlyIncome             1470 non-null   int64 \n",
      " 19  MonthlyRate               1470 non-null   int64 \n",
      " 20  NumCompaniesWorked        1470 non-null   int64 \n",
      " 21  Over18                    1470 non-null   object\n",
      " 22  OverTime                  1470 non-null   object\n",
      " 23  PercentSalaryHike         1470 non-null   int64 \n",
      " 24  PerformanceRating         1470 non-null   int64 \n",
      " 25  RelationshipSatisfaction  1470 non-null   int64 \n",
      " 26  StandardHours             1470 non-null   int64 \n",
      " 27  StockOptionLevel          1470 non-null   int64 \n",
      " 28  TotalWorkingYears         1470 non-null   int64 \n",
      " 29  TrainingTimesLastYear     1470 non-null   int64 \n",
      " 30  WorkLifeBalance           1470 non-null   int64 \n",
      " 31  YearsAtCompany            1470 non-null   int64 \n",
      " 32  YearsInCurrentRole        1470 non-null   int64 \n",
      " 33  YearsSinceLastPromotion   1470 non-null   int64 \n",
      " 34  YearsWithCurrManager      1470 non-null   int64 \n",
      "dtypes: int64(27), object(8)\n",
      "memory usage: 402.1+ KB\n"
     ]
    }
   ],
   "source": [
    "data.info()"
   ]
  },
  {
   "cell_type": "code",
   "execution_count": 76,
   "id": "bfc1f113",
   "metadata": {},
   "outputs": [],
   "source": [
    "data.drop(\"Over18\",axis=1,inplace=True)"
   ]
  },
  {
   "cell_type": "code",
   "execution_count": 77,
   "id": "a95fd4c4",
   "metadata": {},
   "outputs": [
    {
     "data": {
      "text/html": [
       "<div>\n",
       "<style scoped>\n",
       "    .dataframe tbody tr th:only-of-type {\n",
       "        vertical-align: middle;\n",
       "    }\n",
       "\n",
       "    .dataframe tbody tr th {\n",
       "        vertical-align: top;\n",
       "    }\n",
       "\n",
       "    .dataframe thead th {\n",
       "        text-align: right;\n",
       "    }\n",
       "</style>\n",
       "<table border=\"1\" class=\"dataframe\">\n",
       "  <thead>\n",
       "    <tr style=\"text-align: right;\">\n",
       "      <th></th>\n",
       "      <th>Age</th>\n",
       "      <th>Attrition</th>\n",
       "      <th>DailyRate</th>\n",
       "      <th>DistanceFromHome</th>\n",
       "      <th>Education</th>\n",
       "      <th>EmployeeCount</th>\n",
       "      <th>EmployeeNumber</th>\n",
       "      <th>EnvironmentSatisfaction</th>\n",
       "      <th>HourlyRate</th>\n",
       "      <th>JobInvolvement</th>\n",
       "      <th>...</th>\n",
       "      <th>RelationshipSatisfaction</th>\n",
       "      <th>StandardHours</th>\n",
       "      <th>StockOptionLevel</th>\n",
       "      <th>TotalWorkingYears</th>\n",
       "      <th>TrainingTimesLastYear</th>\n",
       "      <th>WorkLifeBalance</th>\n",
       "      <th>YearsAtCompany</th>\n",
       "      <th>YearsInCurrentRole</th>\n",
       "      <th>YearsSinceLastPromotion</th>\n",
       "      <th>YearsWithCurrManager</th>\n",
       "    </tr>\n",
       "  </thead>\n",
       "  <tbody>\n",
       "    <tr>\n",
       "      <th>count</th>\n",
       "      <td>1470.000000</td>\n",
       "      <td>1470.000000</td>\n",
       "      <td>1470.000000</td>\n",
       "      <td>1470.000000</td>\n",
       "      <td>1470.000000</td>\n",
       "      <td>1470.0</td>\n",
       "      <td>1470.000000</td>\n",
       "      <td>1470.000000</td>\n",
       "      <td>1470.000000</td>\n",
       "      <td>1470.000000</td>\n",
       "      <td>...</td>\n",
       "      <td>1470.000000</td>\n",
       "      <td>1470.0</td>\n",
       "      <td>1470.000000</td>\n",
       "      <td>1470.000000</td>\n",
       "      <td>1470.000000</td>\n",
       "      <td>1470.000000</td>\n",
       "      <td>1470.000000</td>\n",
       "      <td>1470.000000</td>\n",
       "      <td>1470.000000</td>\n",
       "      <td>1470.000000</td>\n",
       "    </tr>\n",
       "    <tr>\n",
       "      <th>mean</th>\n",
       "      <td>36.923810</td>\n",
       "      <td>0.161224</td>\n",
       "      <td>802.485714</td>\n",
       "      <td>9.192517</td>\n",
       "      <td>2.912925</td>\n",
       "      <td>1.0</td>\n",
       "      <td>1024.865306</td>\n",
       "      <td>2.721769</td>\n",
       "      <td>65.891156</td>\n",
       "      <td>2.729932</td>\n",
       "      <td>...</td>\n",
       "      <td>2.712245</td>\n",
       "      <td>80.0</td>\n",
       "      <td>0.793878</td>\n",
       "      <td>11.279592</td>\n",
       "      <td>2.799320</td>\n",
       "      <td>2.761224</td>\n",
       "      <td>7.008163</td>\n",
       "      <td>4.229252</td>\n",
       "      <td>2.187755</td>\n",
       "      <td>4.123129</td>\n",
       "    </tr>\n",
       "    <tr>\n",
       "      <th>std</th>\n",
       "      <td>9.135373</td>\n",
       "      <td>0.367863</td>\n",
       "      <td>403.509100</td>\n",
       "      <td>8.106864</td>\n",
       "      <td>1.024165</td>\n",
       "      <td>0.0</td>\n",
       "      <td>602.024335</td>\n",
       "      <td>1.093082</td>\n",
       "      <td>20.329428</td>\n",
       "      <td>0.711561</td>\n",
       "      <td>...</td>\n",
       "      <td>1.081209</td>\n",
       "      <td>0.0</td>\n",
       "      <td>0.852077</td>\n",
       "      <td>7.780782</td>\n",
       "      <td>1.289271</td>\n",
       "      <td>0.706476</td>\n",
       "      <td>6.126525</td>\n",
       "      <td>3.623137</td>\n",
       "      <td>3.222430</td>\n",
       "      <td>3.568136</td>\n",
       "    </tr>\n",
       "    <tr>\n",
       "      <th>min</th>\n",
       "      <td>18.000000</td>\n",
       "      <td>0.000000</td>\n",
       "      <td>102.000000</td>\n",
       "      <td>1.000000</td>\n",
       "      <td>1.000000</td>\n",
       "      <td>1.0</td>\n",
       "      <td>1.000000</td>\n",
       "      <td>1.000000</td>\n",
       "      <td>30.000000</td>\n",
       "      <td>1.000000</td>\n",
       "      <td>...</td>\n",
       "      <td>1.000000</td>\n",
       "      <td>80.0</td>\n",
       "      <td>0.000000</td>\n",
       "      <td>0.000000</td>\n",
       "      <td>0.000000</td>\n",
       "      <td>1.000000</td>\n",
       "      <td>0.000000</td>\n",
       "      <td>0.000000</td>\n",
       "      <td>0.000000</td>\n",
       "      <td>0.000000</td>\n",
       "    </tr>\n",
       "    <tr>\n",
       "      <th>25%</th>\n",
       "      <td>30.000000</td>\n",
       "      <td>0.000000</td>\n",
       "      <td>465.000000</td>\n",
       "      <td>2.000000</td>\n",
       "      <td>2.000000</td>\n",
       "      <td>1.0</td>\n",
       "      <td>491.250000</td>\n",
       "      <td>2.000000</td>\n",
       "      <td>48.000000</td>\n",
       "      <td>2.000000</td>\n",
       "      <td>...</td>\n",
       "      <td>2.000000</td>\n",
       "      <td>80.0</td>\n",
       "      <td>0.000000</td>\n",
       "      <td>6.000000</td>\n",
       "      <td>2.000000</td>\n",
       "      <td>2.000000</td>\n",
       "      <td>3.000000</td>\n",
       "      <td>2.000000</td>\n",
       "      <td>0.000000</td>\n",
       "      <td>2.000000</td>\n",
       "    </tr>\n",
       "    <tr>\n",
       "      <th>50%</th>\n",
       "      <td>36.000000</td>\n",
       "      <td>0.000000</td>\n",
       "      <td>802.000000</td>\n",
       "      <td>7.000000</td>\n",
       "      <td>3.000000</td>\n",
       "      <td>1.0</td>\n",
       "      <td>1020.500000</td>\n",
       "      <td>3.000000</td>\n",
       "      <td>66.000000</td>\n",
       "      <td>3.000000</td>\n",
       "      <td>...</td>\n",
       "      <td>3.000000</td>\n",
       "      <td>80.0</td>\n",
       "      <td>1.000000</td>\n",
       "      <td>10.000000</td>\n",
       "      <td>3.000000</td>\n",
       "      <td>3.000000</td>\n",
       "      <td>5.000000</td>\n",
       "      <td>3.000000</td>\n",
       "      <td>1.000000</td>\n",
       "      <td>3.000000</td>\n",
       "    </tr>\n",
       "    <tr>\n",
       "      <th>75%</th>\n",
       "      <td>43.000000</td>\n",
       "      <td>0.000000</td>\n",
       "      <td>1157.000000</td>\n",
       "      <td>14.000000</td>\n",
       "      <td>4.000000</td>\n",
       "      <td>1.0</td>\n",
       "      <td>1555.750000</td>\n",
       "      <td>4.000000</td>\n",
       "      <td>83.750000</td>\n",
       "      <td>3.000000</td>\n",
       "      <td>...</td>\n",
       "      <td>4.000000</td>\n",
       "      <td>80.0</td>\n",
       "      <td>1.000000</td>\n",
       "      <td>15.000000</td>\n",
       "      <td>3.000000</td>\n",
       "      <td>3.000000</td>\n",
       "      <td>9.000000</td>\n",
       "      <td>7.000000</td>\n",
       "      <td>3.000000</td>\n",
       "      <td>7.000000</td>\n",
       "    </tr>\n",
       "    <tr>\n",
       "      <th>max</th>\n",
       "      <td>60.000000</td>\n",
       "      <td>1.000000</td>\n",
       "      <td>1499.000000</td>\n",
       "      <td>29.000000</td>\n",
       "      <td>5.000000</td>\n",
       "      <td>1.0</td>\n",
       "      <td>2068.000000</td>\n",
       "      <td>4.000000</td>\n",
       "      <td>100.000000</td>\n",
       "      <td>4.000000</td>\n",
       "      <td>...</td>\n",
       "      <td>4.000000</td>\n",
       "      <td>80.0</td>\n",
       "      <td>3.000000</td>\n",
       "      <td>40.000000</td>\n",
       "      <td>6.000000</td>\n",
       "      <td>4.000000</td>\n",
       "      <td>40.000000</td>\n",
       "      <td>18.000000</td>\n",
       "      <td>15.000000</td>\n",
       "      <td>17.000000</td>\n",
       "    </tr>\n",
       "  </tbody>\n",
       "</table>\n",
       "<p>8 rows × 27 columns</p>\n",
       "</div>"
      ],
      "text/plain": [
       "               Age    Attrition    DailyRate  DistanceFromHome    Education  \\\n",
       "count  1470.000000  1470.000000  1470.000000       1470.000000  1470.000000   \n",
       "mean     36.923810     0.161224   802.485714          9.192517     2.912925   \n",
       "std       9.135373     0.367863   403.509100          8.106864     1.024165   \n",
       "min      18.000000     0.000000   102.000000          1.000000     1.000000   \n",
       "25%      30.000000     0.000000   465.000000          2.000000     2.000000   \n",
       "50%      36.000000     0.000000   802.000000          7.000000     3.000000   \n",
       "75%      43.000000     0.000000  1157.000000         14.000000     4.000000   \n",
       "max      60.000000     1.000000  1499.000000         29.000000     5.000000   \n",
       "\n",
       "       EmployeeCount  EmployeeNumber  EnvironmentSatisfaction   HourlyRate  \\\n",
       "count         1470.0     1470.000000              1470.000000  1470.000000   \n",
       "mean             1.0     1024.865306                 2.721769    65.891156   \n",
       "std              0.0      602.024335                 1.093082    20.329428   \n",
       "min              1.0        1.000000                 1.000000    30.000000   \n",
       "25%              1.0      491.250000                 2.000000    48.000000   \n",
       "50%              1.0     1020.500000                 3.000000    66.000000   \n",
       "75%              1.0     1555.750000                 4.000000    83.750000   \n",
       "max              1.0     2068.000000                 4.000000   100.000000   \n",
       "\n",
       "       JobInvolvement  ...  RelationshipSatisfaction  StandardHours  \\\n",
       "count     1470.000000  ...               1470.000000         1470.0   \n",
       "mean         2.729932  ...                  2.712245           80.0   \n",
       "std          0.711561  ...                  1.081209            0.0   \n",
       "min          1.000000  ...                  1.000000           80.0   \n",
       "25%          2.000000  ...                  2.000000           80.0   \n",
       "50%          3.000000  ...                  3.000000           80.0   \n",
       "75%          3.000000  ...                  4.000000           80.0   \n",
       "max          4.000000  ...                  4.000000           80.0   \n",
       "\n",
       "       StockOptionLevel  TotalWorkingYears  TrainingTimesLastYear  \\\n",
       "count       1470.000000        1470.000000            1470.000000   \n",
       "mean           0.793878          11.279592               2.799320   \n",
       "std            0.852077           7.780782               1.289271   \n",
       "min            0.000000           0.000000               0.000000   \n",
       "25%            0.000000           6.000000               2.000000   \n",
       "50%            1.000000          10.000000               3.000000   \n",
       "75%            1.000000          15.000000               3.000000   \n",
       "max            3.000000          40.000000               6.000000   \n",
       "\n",
       "       WorkLifeBalance  YearsAtCompany  YearsInCurrentRole  \\\n",
       "count      1470.000000     1470.000000         1470.000000   \n",
       "mean          2.761224        7.008163            4.229252   \n",
       "std           0.706476        6.126525            3.623137   \n",
       "min           1.000000        0.000000            0.000000   \n",
       "25%           2.000000        3.000000            2.000000   \n",
       "50%           3.000000        5.000000            3.000000   \n",
       "75%           3.000000        9.000000            7.000000   \n",
       "max           4.000000       40.000000           18.000000   \n",
       "\n",
       "       YearsSinceLastPromotion  YearsWithCurrManager  \n",
       "count              1470.000000           1470.000000  \n",
       "mean                  2.187755              4.123129  \n",
       "std                   3.222430              3.568136  \n",
       "min                   0.000000              0.000000  \n",
       "25%                   0.000000              2.000000  \n",
       "50%                   1.000000              3.000000  \n",
       "75%                   3.000000              7.000000  \n",
       "max                  15.000000             17.000000  \n",
       "\n",
       "[8 rows x 27 columns]"
      ]
     },
     "execution_count": 77,
     "metadata": {},
     "output_type": "execute_result"
    }
   ],
   "source": [
    "data.describe()"
   ]
  },
  {
   "cell_type": "markdown",
   "id": "cc00195c",
   "metadata": {},
   "source": [
    "* From the above analysis we can get an idea about the skeweness in the data set. \n",
    "\n",
    "* Features like employee count, employee number and standard hours may not contribute to our model building as it contains constant values."
   ]
  },
  {
   "cell_type": "code",
   "execution_count": 78,
   "id": "cde4bac2",
   "metadata": {},
   "outputs": [],
   "source": [
    "data.drop(\"EmployeeCount\",axis=1,inplace=True)\n",
    "data.drop(\"EmployeeNumber\",axis=1,inplace=True)\n",
    "data.drop(\"StandardHours\",axis=1,inplace=True)\n",
    "data.drop(\"Education\",axis=1,inplace=True)"
   ]
  },
  {
   "cell_type": "code",
   "execution_count": 79,
   "id": "4f27b243",
   "metadata": {},
   "outputs": [
    {
     "data": {
      "text/html": [
       "<div>\n",
       "<style scoped>\n",
       "    .dataframe tbody tr th:only-of-type {\n",
       "        vertical-align: middle;\n",
       "    }\n",
       "\n",
       "    .dataframe tbody tr th {\n",
       "        vertical-align: top;\n",
       "    }\n",
       "\n",
       "    .dataframe thead th {\n",
       "        text-align: right;\n",
       "    }\n",
       "</style>\n",
       "<table border=\"1\" class=\"dataframe\">\n",
       "  <thead>\n",
       "    <tr style=\"text-align: right;\">\n",
       "      <th></th>\n",
       "      <th>Age</th>\n",
       "      <th>Attrition</th>\n",
       "      <th>DailyRate</th>\n",
       "      <th>DistanceFromHome</th>\n",
       "      <th>EnvironmentSatisfaction</th>\n",
       "      <th>HourlyRate</th>\n",
       "      <th>JobInvolvement</th>\n",
       "      <th>JobLevel</th>\n",
       "      <th>JobSatisfaction</th>\n",
       "      <th>MonthlyIncome</th>\n",
       "      <th>...</th>\n",
       "      <th>PerformanceRating</th>\n",
       "      <th>RelationshipSatisfaction</th>\n",
       "      <th>StockOptionLevel</th>\n",
       "      <th>TotalWorkingYears</th>\n",
       "      <th>TrainingTimesLastYear</th>\n",
       "      <th>WorkLifeBalance</th>\n",
       "      <th>YearsAtCompany</th>\n",
       "      <th>YearsInCurrentRole</th>\n",
       "      <th>YearsSinceLastPromotion</th>\n",
       "      <th>YearsWithCurrManager</th>\n",
       "    </tr>\n",
       "  </thead>\n",
       "  <tbody>\n",
       "    <tr>\n",
       "      <th>Age</th>\n",
       "      <td>1.000000</td>\n",
       "      <td>-0.159205</td>\n",
       "      <td>0.010661</td>\n",
       "      <td>-0.001686</td>\n",
       "      <td>0.010146</td>\n",
       "      <td>0.024287</td>\n",
       "      <td>0.029820</td>\n",
       "      <td>0.509604</td>\n",
       "      <td>-0.004892</td>\n",
       "      <td>0.497855</td>\n",
       "      <td>...</td>\n",
       "      <td>0.001904</td>\n",
       "      <td>0.053535</td>\n",
       "      <td>0.037510</td>\n",
       "      <td>0.680381</td>\n",
       "      <td>-0.019621</td>\n",
       "      <td>-0.021490</td>\n",
       "      <td>0.311309</td>\n",
       "      <td>0.212901</td>\n",
       "      <td>0.216513</td>\n",
       "      <td>0.202089</td>\n",
       "    </tr>\n",
       "    <tr>\n",
       "      <th>Attrition</th>\n",
       "      <td>-0.159205</td>\n",
       "      <td>1.000000</td>\n",
       "      <td>-0.056652</td>\n",
       "      <td>0.077924</td>\n",
       "      <td>-0.103369</td>\n",
       "      <td>-0.006846</td>\n",
       "      <td>-0.130016</td>\n",
       "      <td>-0.169105</td>\n",
       "      <td>-0.103481</td>\n",
       "      <td>-0.159840</td>\n",
       "      <td>...</td>\n",
       "      <td>0.002889</td>\n",
       "      <td>-0.045872</td>\n",
       "      <td>-0.137145</td>\n",
       "      <td>-0.171063</td>\n",
       "      <td>-0.059478</td>\n",
       "      <td>-0.063939</td>\n",
       "      <td>-0.134392</td>\n",
       "      <td>-0.160545</td>\n",
       "      <td>-0.033019</td>\n",
       "      <td>-0.156199</td>\n",
       "    </tr>\n",
       "    <tr>\n",
       "      <th>DailyRate</th>\n",
       "      <td>0.010661</td>\n",
       "      <td>-0.056652</td>\n",
       "      <td>1.000000</td>\n",
       "      <td>-0.004985</td>\n",
       "      <td>0.018355</td>\n",
       "      <td>0.023381</td>\n",
       "      <td>0.046135</td>\n",
       "      <td>0.002966</td>\n",
       "      <td>0.030571</td>\n",
       "      <td>0.007707</td>\n",
       "      <td>...</td>\n",
       "      <td>0.000473</td>\n",
       "      <td>0.007846</td>\n",
       "      <td>0.042143</td>\n",
       "      <td>0.014515</td>\n",
       "      <td>0.002453</td>\n",
       "      <td>-0.037848</td>\n",
       "      <td>-0.034055</td>\n",
       "      <td>0.009932</td>\n",
       "      <td>-0.033229</td>\n",
       "      <td>-0.026363</td>\n",
       "    </tr>\n",
       "    <tr>\n",
       "      <th>DistanceFromHome</th>\n",
       "      <td>-0.001686</td>\n",
       "      <td>0.077924</td>\n",
       "      <td>-0.004985</td>\n",
       "      <td>1.000000</td>\n",
       "      <td>-0.016075</td>\n",
       "      <td>0.031131</td>\n",
       "      <td>0.008783</td>\n",
       "      <td>0.005303</td>\n",
       "      <td>-0.003669</td>\n",
       "      <td>-0.017014</td>\n",
       "      <td>...</td>\n",
       "      <td>0.027110</td>\n",
       "      <td>0.006557</td>\n",
       "      <td>0.044872</td>\n",
       "      <td>0.004628</td>\n",
       "      <td>-0.036942</td>\n",
       "      <td>-0.026556</td>\n",
       "      <td>0.009508</td>\n",
       "      <td>0.018845</td>\n",
       "      <td>0.010029</td>\n",
       "      <td>0.014406</td>\n",
       "    </tr>\n",
       "    <tr>\n",
       "      <th>EnvironmentSatisfaction</th>\n",
       "      <td>0.010146</td>\n",
       "      <td>-0.103369</td>\n",
       "      <td>0.018355</td>\n",
       "      <td>-0.016075</td>\n",
       "      <td>1.000000</td>\n",
       "      <td>-0.049857</td>\n",
       "      <td>-0.008278</td>\n",
       "      <td>0.001212</td>\n",
       "      <td>-0.006784</td>\n",
       "      <td>-0.006259</td>\n",
       "      <td>...</td>\n",
       "      <td>-0.029548</td>\n",
       "      <td>0.007665</td>\n",
       "      <td>0.003432</td>\n",
       "      <td>-0.002693</td>\n",
       "      <td>-0.019359</td>\n",
       "      <td>0.027627</td>\n",
       "      <td>0.001458</td>\n",
       "      <td>0.018007</td>\n",
       "      <td>0.016194</td>\n",
       "      <td>-0.004999</td>\n",
       "    </tr>\n",
       "    <tr>\n",
       "      <th>HourlyRate</th>\n",
       "      <td>0.024287</td>\n",
       "      <td>-0.006846</td>\n",
       "      <td>0.023381</td>\n",
       "      <td>0.031131</td>\n",
       "      <td>-0.049857</td>\n",
       "      <td>1.000000</td>\n",
       "      <td>0.042861</td>\n",
       "      <td>-0.027853</td>\n",
       "      <td>-0.071335</td>\n",
       "      <td>-0.015794</td>\n",
       "      <td>...</td>\n",
       "      <td>-0.002172</td>\n",
       "      <td>0.001330</td>\n",
       "      <td>0.050263</td>\n",
       "      <td>-0.002334</td>\n",
       "      <td>-0.008548</td>\n",
       "      <td>-0.004607</td>\n",
       "      <td>-0.019582</td>\n",
       "      <td>-0.024106</td>\n",
       "      <td>-0.026716</td>\n",
       "      <td>-0.020123</td>\n",
       "    </tr>\n",
       "    <tr>\n",
       "      <th>JobInvolvement</th>\n",
       "      <td>0.029820</td>\n",
       "      <td>-0.130016</td>\n",
       "      <td>0.046135</td>\n",
       "      <td>0.008783</td>\n",
       "      <td>-0.008278</td>\n",
       "      <td>0.042861</td>\n",
       "      <td>1.000000</td>\n",
       "      <td>-0.012630</td>\n",
       "      <td>-0.021476</td>\n",
       "      <td>-0.015271</td>\n",
       "      <td>...</td>\n",
       "      <td>-0.029071</td>\n",
       "      <td>0.034297</td>\n",
       "      <td>0.021523</td>\n",
       "      <td>-0.005533</td>\n",
       "      <td>-0.015338</td>\n",
       "      <td>-0.014617</td>\n",
       "      <td>-0.021355</td>\n",
       "      <td>0.008717</td>\n",
       "      <td>-0.024184</td>\n",
       "      <td>0.025976</td>\n",
       "    </tr>\n",
       "    <tr>\n",
       "      <th>JobLevel</th>\n",
       "      <td>0.509604</td>\n",
       "      <td>-0.169105</td>\n",
       "      <td>0.002966</td>\n",
       "      <td>0.005303</td>\n",
       "      <td>0.001212</td>\n",
       "      <td>-0.027853</td>\n",
       "      <td>-0.012630</td>\n",
       "      <td>1.000000</td>\n",
       "      <td>-0.001944</td>\n",
       "      <td>0.950300</td>\n",
       "      <td>...</td>\n",
       "      <td>-0.021222</td>\n",
       "      <td>0.021642</td>\n",
       "      <td>0.013984</td>\n",
       "      <td>0.782208</td>\n",
       "      <td>-0.018191</td>\n",
       "      <td>0.037818</td>\n",
       "      <td>0.534739</td>\n",
       "      <td>0.389447</td>\n",
       "      <td>0.353885</td>\n",
       "      <td>0.375281</td>\n",
       "    </tr>\n",
       "    <tr>\n",
       "      <th>JobSatisfaction</th>\n",
       "      <td>-0.004892</td>\n",
       "      <td>-0.103481</td>\n",
       "      <td>0.030571</td>\n",
       "      <td>-0.003669</td>\n",
       "      <td>-0.006784</td>\n",
       "      <td>-0.071335</td>\n",
       "      <td>-0.021476</td>\n",
       "      <td>-0.001944</td>\n",
       "      <td>1.000000</td>\n",
       "      <td>-0.007157</td>\n",
       "      <td>...</td>\n",
       "      <td>0.002297</td>\n",
       "      <td>-0.012454</td>\n",
       "      <td>0.010690</td>\n",
       "      <td>-0.020185</td>\n",
       "      <td>-0.005779</td>\n",
       "      <td>-0.019459</td>\n",
       "      <td>-0.003803</td>\n",
       "      <td>-0.002305</td>\n",
       "      <td>-0.018214</td>\n",
       "      <td>-0.027656</td>\n",
       "    </tr>\n",
       "    <tr>\n",
       "      <th>MonthlyIncome</th>\n",
       "      <td>0.497855</td>\n",
       "      <td>-0.159840</td>\n",
       "      <td>0.007707</td>\n",
       "      <td>-0.017014</td>\n",
       "      <td>-0.006259</td>\n",
       "      <td>-0.015794</td>\n",
       "      <td>-0.015271</td>\n",
       "      <td>0.950300</td>\n",
       "      <td>-0.007157</td>\n",
       "      <td>1.000000</td>\n",
       "      <td>...</td>\n",
       "      <td>-0.017120</td>\n",
       "      <td>0.025873</td>\n",
       "      <td>0.005408</td>\n",
       "      <td>0.772893</td>\n",
       "      <td>-0.021736</td>\n",
       "      <td>0.030683</td>\n",
       "      <td>0.514285</td>\n",
       "      <td>0.363818</td>\n",
       "      <td>0.344978</td>\n",
       "      <td>0.344079</td>\n",
       "    </tr>\n",
       "    <tr>\n",
       "      <th>MonthlyRate</th>\n",
       "      <td>0.028051</td>\n",
       "      <td>0.015170</td>\n",
       "      <td>-0.032182</td>\n",
       "      <td>0.027473</td>\n",
       "      <td>0.037600</td>\n",
       "      <td>-0.015297</td>\n",
       "      <td>-0.016322</td>\n",
       "      <td>0.039563</td>\n",
       "      <td>0.000644</td>\n",
       "      <td>0.034814</td>\n",
       "      <td>...</td>\n",
       "      <td>-0.009811</td>\n",
       "      <td>-0.004085</td>\n",
       "      <td>-0.034323</td>\n",
       "      <td>0.026442</td>\n",
       "      <td>0.001467</td>\n",
       "      <td>0.007963</td>\n",
       "      <td>-0.023655</td>\n",
       "      <td>-0.012815</td>\n",
       "      <td>0.001567</td>\n",
       "      <td>-0.036746</td>\n",
       "    </tr>\n",
       "    <tr>\n",
       "      <th>NumCompaniesWorked</th>\n",
       "      <td>0.299635</td>\n",
       "      <td>0.043494</td>\n",
       "      <td>0.038153</td>\n",
       "      <td>-0.029251</td>\n",
       "      <td>0.012594</td>\n",
       "      <td>0.022157</td>\n",
       "      <td>0.015012</td>\n",
       "      <td>0.142501</td>\n",
       "      <td>-0.055699</td>\n",
       "      <td>0.149515</td>\n",
       "      <td>...</td>\n",
       "      <td>-0.014095</td>\n",
       "      <td>0.052733</td>\n",
       "      <td>0.030075</td>\n",
       "      <td>0.237639</td>\n",
       "      <td>-0.066054</td>\n",
       "      <td>-0.008366</td>\n",
       "      <td>-0.118421</td>\n",
       "      <td>-0.090754</td>\n",
       "      <td>-0.036814</td>\n",
       "      <td>-0.110319</td>\n",
       "    </tr>\n",
       "    <tr>\n",
       "      <th>PercentSalaryHike</th>\n",
       "      <td>0.003634</td>\n",
       "      <td>-0.013478</td>\n",
       "      <td>0.022704</td>\n",
       "      <td>0.040235</td>\n",
       "      <td>-0.031701</td>\n",
       "      <td>-0.009062</td>\n",
       "      <td>-0.017205</td>\n",
       "      <td>-0.034730</td>\n",
       "      <td>0.020002</td>\n",
       "      <td>-0.027269</td>\n",
       "      <td>...</td>\n",
       "      <td>0.773550</td>\n",
       "      <td>-0.040490</td>\n",
       "      <td>0.007528</td>\n",
       "      <td>-0.020608</td>\n",
       "      <td>-0.005221</td>\n",
       "      <td>-0.003280</td>\n",
       "      <td>-0.035991</td>\n",
       "      <td>-0.001520</td>\n",
       "      <td>-0.022154</td>\n",
       "      <td>-0.011985</td>\n",
       "    </tr>\n",
       "    <tr>\n",
       "      <th>PerformanceRating</th>\n",
       "      <td>0.001904</td>\n",
       "      <td>0.002889</td>\n",
       "      <td>0.000473</td>\n",
       "      <td>0.027110</td>\n",
       "      <td>-0.029548</td>\n",
       "      <td>-0.002172</td>\n",
       "      <td>-0.029071</td>\n",
       "      <td>-0.021222</td>\n",
       "      <td>0.002297</td>\n",
       "      <td>-0.017120</td>\n",
       "      <td>...</td>\n",
       "      <td>1.000000</td>\n",
       "      <td>-0.031351</td>\n",
       "      <td>0.003506</td>\n",
       "      <td>0.006744</td>\n",
       "      <td>-0.015579</td>\n",
       "      <td>0.002572</td>\n",
       "      <td>0.003435</td>\n",
       "      <td>0.034986</td>\n",
       "      <td>0.017896</td>\n",
       "      <td>0.022827</td>\n",
       "    </tr>\n",
       "    <tr>\n",
       "      <th>RelationshipSatisfaction</th>\n",
       "      <td>0.053535</td>\n",
       "      <td>-0.045872</td>\n",
       "      <td>0.007846</td>\n",
       "      <td>0.006557</td>\n",
       "      <td>0.007665</td>\n",
       "      <td>0.001330</td>\n",
       "      <td>0.034297</td>\n",
       "      <td>0.021642</td>\n",
       "      <td>-0.012454</td>\n",
       "      <td>0.025873</td>\n",
       "      <td>...</td>\n",
       "      <td>-0.031351</td>\n",
       "      <td>1.000000</td>\n",
       "      <td>-0.045952</td>\n",
       "      <td>0.024054</td>\n",
       "      <td>0.002497</td>\n",
       "      <td>0.019604</td>\n",
       "      <td>0.019367</td>\n",
       "      <td>-0.015123</td>\n",
       "      <td>0.033493</td>\n",
       "      <td>-0.000867</td>\n",
       "    </tr>\n",
       "    <tr>\n",
       "      <th>StockOptionLevel</th>\n",
       "      <td>0.037510</td>\n",
       "      <td>-0.137145</td>\n",
       "      <td>0.042143</td>\n",
       "      <td>0.044872</td>\n",
       "      <td>0.003432</td>\n",
       "      <td>0.050263</td>\n",
       "      <td>0.021523</td>\n",
       "      <td>0.013984</td>\n",
       "      <td>0.010690</td>\n",
       "      <td>0.005408</td>\n",
       "      <td>...</td>\n",
       "      <td>0.003506</td>\n",
       "      <td>-0.045952</td>\n",
       "      <td>1.000000</td>\n",
       "      <td>0.010136</td>\n",
       "      <td>0.011274</td>\n",
       "      <td>0.004129</td>\n",
       "      <td>0.015058</td>\n",
       "      <td>0.050818</td>\n",
       "      <td>0.014352</td>\n",
       "      <td>0.024698</td>\n",
       "    </tr>\n",
       "    <tr>\n",
       "      <th>TotalWorkingYears</th>\n",
       "      <td>0.680381</td>\n",
       "      <td>-0.171063</td>\n",
       "      <td>0.014515</td>\n",
       "      <td>0.004628</td>\n",
       "      <td>-0.002693</td>\n",
       "      <td>-0.002334</td>\n",
       "      <td>-0.005533</td>\n",
       "      <td>0.782208</td>\n",
       "      <td>-0.020185</td>\n",
       "      <td>0.772893</td>\n",
       "      <td>...</td>\n",
       "      <td>0.006744</td>\n",
       "      <td>0.024054</td>\n",
       "      <td>0.010136</td>\n",
       "      <td>1.000000</td>\n",
       "      <td>-0.035662</td>\n",
       "      <td>0.001008</td>\n",
       "      <td>0.628133</td>\n",
       "      <td>0.460365</td>\n",
       "      <td>0.404858</td>\n",
       "      <td>0.459188</td>\n",
       "    </tr>\n",
       "    <tr>\n",
       "      <th>TrainingTimesLastYear</th>\n",
       "      <td>-0.019621</td>\n",
       "      <td>-0.059478</td>\n",
       "      <td>0.002453</td>\n",
       "      <td>-0.036942</td>\n",
       "      <td>-0.019359</td>\n",
       "      <td>-0.008548</td>\n",
       "      <td>-0.015338</td>\n",
       "      <td>-0.018191</td>\n",
       "      <td>-0.005779</td>\n",
       "      <td>-0.021736</td>\n",
       "      <td>...</td>\n",
       "      <td>-0.015579</td>\n",
       "      <td>0.002497</td>\n",
       "      <td>0.011274</td>\n",
       "      <td>-0.035662</td>\n",
       "      <td>1.000000</td>\n",
       "      <td>0.028072</td>\n",
       "      <td>0.003569</td>\n",
       "      <td>-0.005738</td>\n",
       "      <td>-0.002067</td>\n",
       "      <td>-0.004096</td>\n",
       "    </tr>\n",
       "    <tr>\n",
       "      <th>WorkLifeBalance</th>\n",
       "      <td>-0.021490</td>\n",
       "      <td>-0.063939</td>\n",
       "      <td>-0.037848</td>\n",
       "      <td>-0.026556</td>\n",
       "      <td>0.027627</td>\n",
       "      <td>-0.004607</td>\n",
       "      <td>-0.014617</td>\n",
       "      <td>0.037818</td>\n",
       "      <td>-0.019459</td>\n",
       "      <td>0.030683</td>\n",
       "      <td>...</td>\n",
       "      <td>0.002572</td>\n",
       "      <td>0.019604</td>\n",
       "      <td>0.004129</td>\n",
       "      <td>0.001008</td>\n",
       "      <td>0.028072</td>\n",
       "      <td>1.000000</td>\n",
       "      <td>0.012089</td>\n",
       "      <td>0.049856</td>\n",
       "      <td>0.008941</td>\n",
       "      <td>0.002759</td>\n",
       "    </tr>\n",
       "    <tr>\n",
       "      <th>YearsAtCompany</th>\n",
       "      <td>0.311309</td>\n",
       "      <td>-0.134392</td>\n",
       "      <td>-0.034055</td>\n",
       "      <td>0.009508</td>\n",
       "      <td>0.001458</td>\n",
       "      <td>-0.019582</td>\n",
       "      <td>-0.021355</td>\n",
       "      <td>0.534739</td>\n",
       "      <td>-0.003803</td>\n",
       "      <td>0.514285</td>\n",
       "      <td>...</td>\n",
       "      <td>0.003435</td>\n",
       "      <td>0.019367</td>\n",
       "      <td>0.015058</td>\n",
       "      <td>0.628133</td>\n",
       "      <td>0.003569</td>\n",
       "      <td>0.012089</td>\n",
       "      <td>1.000000</td>\n",
       "      <td>0.758754</td>\n",
       "      <td>0.618409</td>\n",
       "      <td>0.769212</td>\n",
       "    </tr>\n",
       "    <tr>\n",
       "      <th>YearsInCurrentRole</th>\n",
       "      <td>0.212901</td>\n",
       "      <td>-0.160545</td>\n",
       "      <td>0.009932</td>\n",
       "      <td>0.018845</td>\n",
       "      <td>0.018007</td>\n",
       "      <td>-0.024106</td>\n",
       "      <td>0.008717</td>\n",
       "      <td>0.389447</td>\n",
       "      <td>-0.002305</td>\n",
       "      <td>0.363818</td>\n",
       "      <td>...</td>\n",
       "      <td>0.034986</td>\n",
       "      <td>-0.015123</td>\n",
       "      <td>0.050818</td>\n",
       "      <td>0.460365</td>\n",
       "      <td>-0.005738</td>\n",
       "      <td>0.049856</td>\n",
       "      <td>0.758754</td>\n",
       "      <td>1.000000</td>\n",
       "      <td>0.548056</td>\n",
       "      <td>0.714365</td>\n",
       "    </tr>\n",
       "    <tr>\n",
       "      <th>YearsSinceLastPromotion</th>\n",
       "      <td>0.216513</td>\n",
       "      <td>-0.033019</td>\n",
       "      <td>-0.033229</td>\n",
       "      <td>0.010029</td>\n",
       "      <td>0.016194</td>\n",
       "      <td>-0.026716</td>\n",
       "      <td>-0.024184</td>\n",
       "      <td>0.353885</td>\n",
       "      <td>-0.018214</td>\n",
       "      <td>0.344978</td>\n",
       "      <td>...</td>\n",
       "      <td>0.017896</td>\n",
       "      <td>0.033493</td>\n",
       "      <td>0.014352</td>\n",
       "      <td>0.404858</td>\n",
       "      <td>-0.002067</td>\n",
       "      <td>0.008941</td>\n",
       "      <td>0.618409</td>\n",
       "      <td>0.548056</td>\n",
       "      <td>1.000000</td>\n",
       "      <td>0.510224</td>\n",
       "    </tr>\n",
       "    <tr>\n",
       "      <th>YearsWithCurrManager</th>\n",
       "      <td>0.202089</td>\n",
       "      <td>-0.156199</td>\n",
       "      <td>-0.026363</td>\n",
       "      <td>0.014406</td>\n",
       "      <td>-0.004999</td>\n",
       "      <td>-0.020123</td>\n",
       "      <td>0.025976</td>\n",
       "      <td>0.375281</td>\n",
       "      <td>-0.027656</td>\n",
       "      <td>0.344079</td>\n",
       "      <td>...</td>\n",
       "      <td>0.022827</td>\n",
       "      <td>-0.000867</td>\n",
       "      <td>0.024698</td>\n",
       "      <td>0.459188</td>\n",
       "      <td>-0.004096</td>\n",
       "      <td>0.002759</td>\n",
       "      <td>0.769212</td>\n",
       "      <td>0.714365</td>\n",
       "      <td>0.510224</td>\n",
       "      <td>1.000000</td>\n",
       "    </tr>\n",
       "  </tbody>\n",
       "</table>\n",
       "<p>23 rows × 23 columns</p>\n",
       "</div>"
      ],
      "text/plain": [
       "                               Age  Attrition  DailyRate  DistanceFromHome  \\\n",
       "Age                       1.000000  -0.159205   0.010661         -0.001686   \n",
       "Attrition                -0.159205   1.000000  -0.056652          0.077924   \n",
       "DailyRate                 0.010661  -0.056652   1.000000         -0.004985   \n",
       "DistanceFromHome         -0.001686   0.077924  -0.004985          1.000000   \n",
       "EnvironmentSatisfaction   0.010146  -0.103369   0.018355         -0.016075   \n",
       "HourlyRate                0.024287  -0.006846   0.023381          0.031131   \n",
       "JobInvolvement            0.029820  -0.130016   0.046135          0.008783   \n",
       "JobLevel                  0.509604  -0.169105   0.002966          0.005303   \n",
       "JobSatisfaction          -0.004892  -0.103481   0.030571         -0.003669   \n",
       "MonthlyIncome             0.497855  -0.159840   0.007707         -0.017014   \n",
       "MonthlyRate               0.028051   0.015170  -0.032182          0.027473   \n",
       "NumCompaniesWorked        0.299635   0.043494   0.038153         -0.029251   \n",
       "PercentSalaryHike         0.003634  -0.013478   0.022704          0.040235   \n",
       "PerformanceRating         0.001904   0.002889   0.000473          0.027110   \n",
       "RelationshipSatisfaction  0.053535  -0.045872   0.007846          0.006557   \n",
       "StockOptionLevel          0.037510  -0.137145   0.042143          0.044872   \n",
       "TotalWorkingYears         0.680381  -0.171063   0.014515          0.004628   \n",
       "TrainingTimesLastYear    -0.019621  -0.059478   0.002453         -0.036942   \n",
       "WorkLifeBalance          -0.021490  -0.063939  -0.037848         -0.026556   \n",
       "YearsAtCompany            0.311309  -0.134392  -0.034055          0.009508   \n",
       "YearsInCurrentRole        0.212901  -0.160545   0.009932          0.018845   \n",
       "YearsSinceLastPromotion   0.216513  -0.033019  -0.033229          0.010029   \n",
       "YearsWithCurrManager      0.202089  -0.156199  -0.026363          0.014406   \n",
       "\n",
       "                          EnvironmentSatisfaction  HourlyRate  JobInvolvement  \\\n",
       "Age                                      0.010146    0.024287        0.029820   \n",
       "Attrition                               -0.103369   -0.006846       -0.130016   \n",
       "DailyRate                                0.018355    0.023381        0.046135   \n",
       "DistanceFromHome                        -0.016075    0.031131        0.008783   \n",
       "EnvironmentSatisfaction                  1.000000   -0.049857       -0.008278   \n",
       "HourlyRate                              -0.049857    1.000000        0.042861   \n",
       "JobInvolvement                          -0.008278    0.042861        1.000000   \n",
       "JobLevel                                 0.001212   -0.027853       -0.012630   \n",
       "JobSatisfaction                         -0.006784   -0.071335       -0.021476   \n",
       "MonthlyIncome                           -0.006259   -0.015794       -0.015271   \n",
       "MonthlyRate                              0.037600   -0.015297       -0.016322   \n",
       "NumCompaniesWorked                       0.012594    0.022157        0.015012   \n",
       "PercentSalaryHike                       -0.031701   -0.009062       -0.017205   \n",
       "PerformanceRating                       -0.029548   -0.002172       -0.029071   \n",
       "RelationshipSatisfaction                 0.007665    0.001330        0.034297   \n",
       "StockOptionLevel                         0.003432    0.050263        0.021523   \n",
       "TotalWorkingYears                       -0.002693   -0.002334       -0.005533   \n",
       "TrainingTimesLastYear                   -0.019359   -0.008548       -0.015338   \n",
       "WorkLifeBalance                          0.027627   -0.004607       -0.014617   \n",
       "YearsAtCompany                           0.001458   -0.019582       -0.021355   \n",
       "YearsInCurrentRole                       0.018007   -0.024106        0.008717   \n",
       "YearsSinceLastPromotion                  0.016194   -0.026716       -0.024184   \n",
       "YearsWithCurrManager                    -0.004999   -0.020123        0.025976   \n",
       "\n",
       "                          JobLevel  JobSatisfaction  MonthlyIncome  ...  \\\n",
       "Age                       0.509604        -0.004892       0.497855  ...   \n",
       "Attrition                -0.169105        -0.103481      -0.159840  ...   \n",
       "DailyRate                 0.002966         0.030571       0.007707  ...   \n",
       "DistanceFromHome          0.005303        -0.003669      -0.017014  ...   \n",
       "EnvironmentSatisfaction   0.001212        -0.006784      -0.006259  ...   \n",
       "HourlyRate               -0.027853        -0.071335      -0.015794  ...   \n",
       "JobInvolvement           -0.012630        -0.021476      -0.015271  ...   \n",
       "JobLevel                  1.000000        -0.001944       0.950300  ...   \n",
       "JobSatisfaction          -0.001944         1.000000      -0.007157  ...   \n",
       "MonthlyIncome             0.950300        -0.007157       1.000000  ...   \n",
       "MonthlyRate               0.039563         0.000644       0.034814  ...   \n",
       "NumCompaniesWorked        0.142501        -0.055699       0.149515  ...   \n",
       "PercentSalaryHike        -0.034730         0.020002      -0.027269  ...   \n",
       "PerformanceRating        -0.021222         0.002297      -0.017120  ...   \n",
       "RelationshipSatisfaction  0.021642        -0.012454       0.025873  ...   \n",
       "StockOptionLevel          0.013984         0.010690       0.005408  ...   \n",
       "TotalWorkingYears         0.782208        -0.020185       0.772893  ...   \n",
       "TrainingTimesLastYear    -0.018191        -0.005779      -0.021736  ...   \n",
       "WorkLifeBalance           0.037818        -0.019459       0.030683  ...   \n",
       "YearsAtCompany            0.534739        -0.003803       0.514285  ...   \n",
       "YearsInCurrentRole        0.389447        -0.002305       0.363818  ...   \n",
       "YearsSinceLastPromotion   0.353885        -0.018214       0.344978  ...   \n",
       "YearsWithCurrManager      0.375281        -0.027656       0.344079  ...   \n",
       "\n",
       "                          PerformanceRating  RelationshipSatisfaction  \\\n",
       "Age                                0.001904                  0.053535   \n",
       "Attrition                          0.002889                 -0.045872   \n",
       "DailyRate                          0.000473                  0.007846   \n",
       "DistanceFromHome                   0.027110                  0.006557   \n",
       "EnvironmentSatisfaction           -0.029548                  0.007665   \n",
       "HourlyRate                        -0.002172                  0.001330   \n",
       "JobInvolvement                    -0.029071                  0.034297   \n",
       "JobLevel                          -0.021222                  0.021642   \n",
       "JobSatisfaction                    0.002297                 -0.012454   \n",
       "MonthlyIncome                     -0.017120                  0.025873   \n",
       "MonthlyRate                       -0.009811                 -0.004085   \n",
       "NumCompaniesWorked                -0.014095                  0.052733   \n",
       "PercentSalaryHike                  0.773550                 -0.040490   \n",
       "PerformanceRating                  1.000000                 -0.031351   \n",
       "RelationshipSatisfaction          -0.031351                  1.000000   \n",
       "StockOptionLevel                   0.003506                 -0.045952   \n",
       "TotalWorkingYears                  0.006744                  0.024054   \n",
       "TrainingTimesLastYear             -0.015579                  0.002497   \n",
       "WorkLifeBalance                    0.002572                  0.019604   \n",
       "YearsAtCompany                     0.003435                  0.019367   \n",
       "YearsInCurrentRole                 0.034986                 -0.015123   \n",
       "YearsSinceLastPromotion            0.017896                  0.033493   \n",
       "YearsWithCurrManager               0.022827                 -0.000867   \n",
       "\n",
       "                          StockOptionLevel  TotalWorkingYears  \\\n",
       "Age                               0.037510           0.680381   \n",
       "Attrition                        -0.137145          -0.171063   \n",
       "DailyRate                         0.042143           0.014515   \n",
       "DistanceFromHome                  0.044872           0.004628   \n",
       "EnvironmentSatisfaction           0.003432          -0.002693   \n",
       "HourlyRate                        0.050263          -0.002334   \n",
       "JobInvolvement                    0.021523          -0.005533   \n",
       "JobLevel                          0.013984           0.782208   \n",
       "JobSatisfaction                   0.010690          -0.020185   \n",
       "MonthlyIncome                     0.005408           0.772893   \n",
       "MonthlyRate                      -0.034323           0.026442   \n",
       "NumCompaniesWorked                0.030075           0.237639   \n",
       "PercentSalaryHike                 0.007528          -0.020608   \n",
       "PerformanceRating                 0.003506           0.006744   \n",
       "RelationshipSatisfaction         -0.045952           0.024054   \n",
       "StockOptionLevel                  1.000000           0.010136   \n",
       "TotalWorkingYears                 0.010136           1.000000   \n",
       "TrainingTimesLastYear             0.011274          -0.035662   \n",
       "WorkLifeBalance                   0.004129           0.001008   \n",
       "YearsAtCompany                    0.015058           0.628133   \n",
       "YearsInCurrentRole                0.050818           0.460365   \n",
       "YearsSinceLastPromotion           0.014352           0.404858   \n",
       "YearsWithCurrManager              0.024698           0.459188   \n",
       "\n",
       "                          TrainingTimesLastYear  WorkLifeBalance  \\\n",
       "Age                                   -0.019621        -0.021490   \n",
       "Attrition                             -0.059478        -0.063939   \n",
       "DailyRate                              0.002453        -0.037848   \n",
       "DistanceFromHome                      -0.036942        -0.026556   \n",
       "EnvironmentSatisfaction               -0.019359         0.027627   \n",
       "HourlyRate                            -0.008548        -0.004607   \n",
       "JobInvolvement                        -0.015338        -0.014617   \n",
       "JobLevel                              -0.018191         0.037818   \n",
       "JobSatisfaction                       -0.005779        -0.019459   \n",
       "MonthlyIncome                         -0.021736         0.030683   \n",
       "MonthlyRate                            0.001467         0.007963   \n",
       "NumCompaniesWorked                    -0.066054        -0.008366   \n",
       "PercentSalaryHike                     -0.005221        -0.003280   \n",
       "PerformanceRating                     -0.015579         0.002572   \n",
       "RelationshipSatisfaction               0.002497         0.019604   \n",
       "StockOptionLevel                       0.011274         0.004129   \n",
       "TotalWorkingYears                     -0.035662         0.001008   \n",
       "TrainingTimesLastYear                  1.000000         0.028072   \n",
       "WorkLifeBalance                        0.028072         1.000000   \n",
       "YearsAtCompany                         0.003569         0.012089   \n",
       "YearsInCurrentRole                    -0.005738         0.049856   \n",
       "YearsSinceLastPromotion               -0.002067         0.008941   \n",
       "YearsWithCurrManager                  -0.004096         0.002759   \n",
       "\n",
       "                          YearsAtCompany  YearsInCurrentRole  \\\n",
       "Age                             0.311309            0.212901   \n",
       "Attrition                      -0.134392           -0.160545   \n",
       "DailyRate                      -0.034055            0.009932   \n",
       "DistanceFromHome                0.009508            0.018845   \n",
       "EnvironmentSatisfaction         0.001458            0.018007   \n",
       "HourlyRate                     -0.019582           -0.024106   \n",
       "JobInvolvement                 -0.021355            0.008717   \n",
       "JobLevel                        0.534739            0.389447   \n",
       "JobSatisfaction                -0.003803           -0.002305   \n",
       "MonthlyIncome                   0.514285            0.363818   \n",
       "MonthlyRate                    -0.023655           -0.012815   \n",
       "NumCompaniesWorked             -0.118421           -0.090754   \n",
       "PercentSalaryHike              -0.035991           -0.001520   \n",
       "PerformanceRating               0.003435            0.034986   \n",
       "RelationshipSatisfaction        0.019367           -0.015123   \n",
       "StockOptionLevel                0.015058            0.050818   \n",
       "TotalWorkingYears               0.628133            0.460365   \n",
       "TrainingTimesLastYear           0.003569           -0.005738   \n",
       "WorkLifeBalance                 0.012089            0.049856   \n",
       "YearsAtCompany                  1.000000            0.758754   \n",
       "YearsInCurrentRole              0.758754            1.000000   \n",
       "YearsSinceLastPromotion         0.618409            0.548056   \n",
       "YearsWithCurrManager            0.769212            0.714365   \n",
       "\n",
       "                          YearsSinceLastPromotion  YearsWithCurrManager  \n",
       "Age                                      0.216513              0.202089  \n",
       "Attrition                               -0.033019             -0.156199  \n",
       "DailyRate                               -0.033229             -0.026363  \n",
       "DistanceFromHome                         0.010029              0.014406  \n",
       "EnvironmentSatisfaction                  0.016194             -0.004999  \n",
       "HourlyRate                              -0.026716             -0.020123  \n",
       "JobInvolvement                          -0.024184              0.025976  \n",
       "JobLevel                                 0.353885              0.375281  \n",
       "JobSatisfaction                         -0.018214             -0.027656  \n",
       "MonthlyIncome                            0.344978              0.344079  \n",
       "MonthlyRate                              0.001567             -0.036746  \n",
       "NumCompaniesWorked                      -0.036814             -0.110319  \n",
       "PercentSalaryHike                       -0.022154             -0.011985  \n",
       "PerformanceRating                        0.017896              0.022827  \n",
       "RelationshipSatisfaction                 0.033493             -0.000867  \n",
       "StockOptionLevel                         0.014352              0.024698  \n",
       "TotalWorkingYears                        0.404858              0.459188  \n",
       "TrainingTimesLastYear                   -0.002067             -0.004096  \n",
       "WorkLifeBalance                          0.008941              0.002759  \n",
       "YearsAtCompany                           0.618409              0.769212  \n",
       "YearsInCurrentRole                       0.548056              0.714365  \n",
       "YearsSinceLastPromotion                  1.000000              0.510224  \n",
       "YearsWithCurrManager                     0.510224              1.000000  \n",
       "\n",
       "[23 rows x 23 columns]"
      ]
     },
     "execution_count": 79,
     "metadata": {},
     "output_type": "execute_result"
    }
   ],
   "source": [
    "data.corr()"
   ]
  },
  {
   "cell_type": "markdown",
   "id": "85594db2",
   "metadata": {},
   "source": [
    "* From the above correlation analysis, we can see that majority of the features are having negative weak correlation with Attrition,whihc means that if these variable increase the arrition with slightly decrease.\n",
    "\n",
    "* From example Employee satisfaction has coefficient of -0.103369 which is negative weak correlation. As employee satisfactiopn increases the attrition decreases. However this is a very correlation. It may or may not impact the model building."
   ]
  },
  {
   "cell_type": "markdown",
   "id": "07f49256",
   "metadata": {},
   "source": [
    "### Chi-Square test"
   ]
  },
  {
   "cell_type": "markdown",
   "id": "c9721b4a",
   "metadata": {},
   "source": [
    "- From the chi-square test we can find out the association between two Categorical variable"
   ]
  },
  {
   "cell_type": "code",
   "execution_count": 80,
   "id": "6388c878",
   "metadata": {},
   "outputs": [],
   "source": [
    "from scipy.stats import chi2_contingency"
   ]
  },
  {
   "cell_type": "markdown",
   "id": "df344503",
   "metadata": {},
   "source": [
    "- Null Hypothesis: There is no significant relationship between the given categorical variables and Attrition.\n",
    "    \n",
    "    \n",
    "- Alternative Hypothesis: There is a significant relationship between the given catogorical variables and Attrition."
   ]
  },
  {
   "cell_type": "code",
   "execution_count": 81,
   "id": "899ae81e",
   "metadata": {},
   "outputs": [
    {
     "name": "stdout",
     "output_type": "stream",
     "text": [
      "Chi-Square test between business tarvel and attrition: \n",
      "   \n",
      "Chi-Square Statistic: 24.182413685655174\n",
      "    P-value: 5.608614476449931e-06\n",
      "    Degrees of Freedom: 2\n",
      "Expected Frequencies Table:\n",
      "Attrition                   0           1\n",
      "BusinessTravel                           \n",
      "Non-Travel         125.816327   24.183673\n",
      "Travel_Frequently  232.340816   44.659184\n",
      "Travel_Rarely      874.842857  168.157143\n",
      "\n",
      "Since the p-value is less than 0.05,we will reject the null hypothesis\n"
     ]
    }
   ],
   "source": [
    "contingency_table = pd.crosstab(data['BusinessTravel'], data['Attrition'])\n",
    "chi2_stat, p_value, dof, expected = chi2_contingency(contingency_table)\n",
    "\n",
    "print(\"Chi-Square test between business tarvel and attrition: \")\n",
    "print(f\"   \\nChi-Square Statistic: {chi2_stat}\")\n",
    "print(f\"    P-value: {p_value}\")\n",
    "print(f\"    Degrees of Freedom: {dof}\")\n",
    "print(\"Expected Frequencies Table:\")\n",
    "print(pd.DataFrame(expected, index=contingency_table.index, columns=contingency_table.columns))\n",
    "\n",
    "\n",
    "if p_value<0.05:\n",
    "    print(\"\\nSince the p-value is less than 0.05,we will reject the null hypothesis\")\n",
    "else:\n",
    "    print(\"\\nSince the p-value is more than 0.05,we fail to reject the null hypothesis\")"
   ]
  },
  {
   "cell_type": "code",
   "execution_count": 82,
   "id": "6ba68a57",
   "metadata": {},
   "outputs": [
    {
     "name": "stdout",
     "output_type": "stream",
     "text": [
      "Chi-Square test between department and attrition: \n",
      "   \n",
      "Chi-Square Statistic: 10.79600732241067\n",
      "    P-value: 0.004525606574479633\n",
      "    Degrees of Freedom: 2\n",
      "Expected Frequencies Table:\n",
      "Attrition                        0           1\n",
      "Department                                    \n",
      "Human Resources          52.842857   10.157143\n",
      "Research & Development  806.063265  154.936735\n",
      "Sales                   374.093878   71.906122\n",
      "\n",
      "Since the p-value is less than 0.05,we will reject the null hypothesis\n"
     ]
    }
   ],
   "source": [
    "contingency_table1 = pd.crosstab(data['Department'], data['Attrition'])\n",
    "chi2_stat, p_value, dof, expected = chi2_contingency(contingency_table1)\n",
    "\n",
    "print(\"Chi-Square test between department and attrition: \")\n",
    "print(f\"   \\nChi-Square Statistic: {chi2_stat}\")\n",
    "print(f\"    P-value: {p_value}\")\n",
    "print(f\"    Degrees of Freedom: {dof}\")\n",
    "print(\"Expected Frequencies Table:\")\n",
    "print(pd.DataFrame(expected, index=contingency_table1.index, columns=contingency_table1.columns))\n",
    "\n",
    "\n",
    "if p_value<0.05:\n",
    "    print(\"\\nSince the p-value is less than 0.05,we will reject the null hypothesis\")\n",
    "else:\n",
    "    print(\"\\nSince the p-value is more than 0.05,we fail to reject the null hypothesis\")"
   ]
  },
  {
   "cell_type": "code",
   "execution_count": 83,
   "id": "c2fb8c73",
   "metadata": {},
   "outputs": [
    {
     "name": "stdout",
     "output_type": "stream",
     "text": [
      "Attrition                 0    1\n",
      "Department                      \n",
      "Human Resources          51   12\n",
      "Research & Development  828  133\n",
      "Sales                   354   92\n"
     ]
    }
   ],
   "source": [
    "attrition_counts1 = data.groupby(['Department', 'Attrition']).size().unstack()\n",
    "print(attrition_counts1)"
   ]
  },
  {
   "cell_type": "code",
   "execution_count": 84,
   "id": "61a27f4c",
   "metadata": {},
   "outputs": [
    {
     "name": "stdout",
     "output_type": "stream",
     "text": [
      "Attrition           0   1\n",
      "EducationField           \n",
      "Human Resources    20   7\n",
      "Life Sciences     517  89\n",
      "Marketing         124  35\n",
      "Medical           401  63\n",
      "Other              71  11\n",
      "Technical Degree  100  32\n"
     ]
    }
   ],
   "source": [
    "attrition_counts2 = data.groupby(['EducationField', 'Attrition']).size().unstack()\n",
    "print(attrition_counts2)"
   ]
  },
  {
   "cell_type": "code",
   "execution_count": 85,
   "id": "4fa80dc2",
   "metadata": {},
   "outputs": [
    {
     "name": "stdout",
     "output_type": "stream",
     "text": [
      "Chi-Square test between department and attrition->> \n",
      "   \n",
      "Chi-Square Statistic: 16.024674119585427\n",
      "    P-value: 0.006773980139025212\n",
      "    Degrees of Freedom: 5\n",
      "Expected Frequencies Table:\n",
      "Attrition                  0          1\n",
      "EducationField                         \n",
      "Human Resources    22.646939   4.353061\n",
      "Life Sciences     508.297959  97.702041\n",
      "Marketing         133.365306  25.634694\n",
      "Medical           389.191837  74.808163\n",
      "Other              68.779592  13.220408\n",
      "Technical Degree  110.718367  21.281633\n",
      "\n",
      "Since the p-value is less than 0.05,we will reject the null hypothesis\n"
     ]
    }
   ],
   "source": [
    "contingency_table2 = pd.crosstab(data['EducationField'], data['Attrition'])\n",
    "chi2_stat, p_value, dof, expected = chi2_contingency(contingency_table2)\n",
    "\n",
    "print(\"Chi-Square test between department and attrition->> \")\n",
    "print(f\"   \\nChi-Square Statistic: {chi2_stat}\")\n",
    "print(f\"    P-value: {p_value}\")\n",
    "print(f\"    Degrees of Freedom: {dof}\")\n",
    "print(\"Expected Frequencies Table:\")\n",
    "print(pd.DataFrame(expected, index=contingency_table2.index, columns=contingency_table2.columns))\n",
    "\n",
    "\n",
    "if p_value<0.05:\n",
    "    print(\"\\nSince the p-value is less than 0.05,we will reject the null hypothesis\")\n",
    "else:\n",
    "    print(\"\\nSince the p-value is more than 0.05,we fail to reject the null hypothesis\")"
   ]
  },
  {
   "cell_type": "code",
   "execution_count": 86,
   "id": "92e6d4d0",
   "metadata": {},
   "outputs": [
    {
     "name": "stdout",
     "output_type": "stream",
     "text": [
      "Attrition          0   1\n",
      "JobSatisfaction         \n",
      "1                223  66\n",
      "2                234  46\n",
      "3                369  73\n",
      "4                407  52\n"
     ]
    }
   ],
   "source": [
    "attrition_counts3 = data.groupby(['JobSatisfaction', 'Attrition']).size().unstack()\n",
    "print(attrition_counts3)"
   ]
  },
  {
   "cell_type": "code",
   "execution_count": 87,
   "id": "e91a339c",
   "metadata": {},
   "outputs": [
    {
     "name": "stdout",
     "output_type": "stream",
     "text": [
      "Chi-Square test between department and attrition->> \n",
      "   \n",
      "Chi-Square Statistic: 17.505077010348\n",
      "    P-value: 0.0005563004510387556\n",
      "    Degrees of Freedom: 3\n",
      "Expected Frequencies Table:\n",
      "Attrition                 0          1\n",
      "JobSatisfaction                       \n",
      "1                242.406122  46.593878\n",
      "2                234.857143  45.142857\n",
      "3                370.738776  71.261224\n",
      "4                384.997959  74.002041\n",
      "\n",
      "Since the p-value is less than 0.05,we will reject the null hypothesis\n"
     ]
    }
   ],
   "source": [
    "contingency_table3 = pd.crosstab(data['JobSatisfaction'], data['Attrition'])\n",
    "chi2_stat, p_value, dof, expected = chi2_contingency(contingency_table3)\n",
    "\n",
    "print(\"Chi-Square test between department and attrition->> \")\n",
    "print(f\"   \\nChi-Square Statistic: {chi2_stat}\")\n",
    "print(f\"    P-value: {p_value}\")\n",
    "print(f\"    Degrees of Freedom: {dof}\")\n",
    "print(\"Expected Frequencies Table:\")\n",
    "print(pd.DataFrame(expected, index=contingency_table3.index, columns=contingency_table3.columns))\n",
    "\n",
    "\n",
    "if p_value<0.05:\n",
    "    print(\"\\nSince the p-value is less than 0.05,we will reject the null hypothesis\")\n",
    "else:\n",
    "    print(\"\\nSince the p-value is more than 0.05,we fail to reject the null hypothesis\")"
   ]
  },
  {
   "cell_type": "markdown",
   "id": "e46b318f",
   "metadata": {},
   "source": [
    "* As we can see that the categorical variables whihc we selected have a satistical significant relationship with the Employee attrition. These variables are not associated by chance. However we need to check for mulricollineaty before our model building."
   ]
  },
  {
   "cell_type": "code",
   "execution_count": 43,
   "id": "0483e0cd",
   "metadata": {},
   "outputs": [],
   "source": [
    "from sklearn.preprocessing import LabelEncoder\n",
    "ls = LabelEncoder()"
   ]
  },
  {
   "cell_type": "code",
   "execution_count": 44,
   "id": "ed836fb1",
   "metadata": {},
   "outputs": [],
   "source": [
    "for col in data.columns:\n",
    "    if data[col].dtypes == 'object':\n",
    "        data[col] = ls.fit_transform(data[col])"
   ]
  },
  {
   "cell_type": "code",
   "execution_count": 45,
   "id": "df45a2b3",
   "metadata": {},
   "outputs": [
    {
     "data": {
      "text/html": [
       "<div>\n",
       "<style scoped>\n",
       "    .dataframe tbody tr th:only-of-type {\n",
       "        vertical-align: middle;\n",
       "    }\n",
       "\n",
       "    .dataframe tbody tr th {\n",
       "        vertical-align: top;\n",
       "    }\n",
       "\n",
       "    .dataframe thead th {\n",
       "        text-align: right;\n",
       "    }\n",
       "</style>\n",
       "<table border=\"1\" class=\"dataframe\">\n",
       "  <thead>\n",
       "    <tr style=\"text-align: right;\">\n",
       "      <th></th>\n",
       "      <th>Age</th>\n",
       "      <th>Attrition</th>\n",
       "      <th>BusinessTravel</th>\n",
       "      <th>DailyRate</th>\n",
       "      <th>Department</th>\n",
       "      <th>DistanceFromHome</th>\n",
       "      <th>EducationField</th>\n",
       "      <th>EnvironmentSatisfaction</th>\n",
       "      <th>Gender</th>\n",
       "      <th>HourlyRate</th>\n",
       "      <th>...</th>\n",
       "      <th>PerformanceRating</th>\n",
       "      <th>RelationshipSatisfaction</th>\n",
       "      <th>StockOptionLevel</th>\n",
       "      <th>TotalWorkingYears</th>\n",
       "      <th>TrainingTimesLastYear</th>\n",
       "      <th>WorkLifeBalance</th>\n",
       "      <th>YearsAtCompany</th>\n",
       "      <th>YearsInCurrentRole</th>\n",
       "      <th>YearsSinceLastPromotion</th>\n",
       "      <th>YearsWithCurrManager</th>\n",
       "    </tr>\n",
       "  </thead>\n",
       "  <tbody>\n",
       "    <tr>\n",
       "      <th>0</th>\n",
       "      <td>41</td>\n",
       "      <td>1</td>\n",
       "      <td>2</td>\n",
       "      <td>1102</td>\n",
       "      <td>2</td>\n",
       "      <td>1</td>\n",
       "      <td>1</td>\n",
       "      <td>2</td>\n",
       "      <td>0</td>\n",
       "      <td>94</td>\n",
       "      <td>...</td>\n",
       "      <td>3</td>\n",
       "      <td>1</td>\n",
       "      <td>0</td>\n",
       "      <td>8</td>\n",
       "      <td>0</td>\n",
       "      <td>1</td>\n",
       "      <td>6</td>\n",
       "      <td>4</td>\n",
       "      <td>0</td>\n",
       "      <td>5</td>\n",
       "    </tr>\n",
       "    <tr>\n",
       "      <th>1</th>\n",
       "      <td>49</td>\n",
       "      <td>0</td>\n",
       "      <td>1</td>\n",
       "      <td>279</td>\n",
       "      <td>1</td>\n",
       "      <td>8</td>\n",
       "      <td>1</td>\n",
       "      <td>3</td>\n",
       "      <td>1</td>\n",
       "      <td>61</td>\n",
       "      <td>...</td>\n",
       "      <td>4</td>\n",
       "      <td>4</td>\n",
       "      <td>1</td>\n",
       "      <td>10</td>\n",
       "      <td>3</td>\n",
       "      <td>3</td>\n",
       "      <td>10</td>\n",
       "      <td>7</td>\n",
       "      <td>1</td>\n",
       "      <td>7</td>\n",
       "    </tr>\n",
       "    <tr>\n",
       "      <th>2</th>\n",
       "      <td>37</td>\n",
       "      <td>1</td>\n",
       "      <td>2</td>\n",
       "      <td>1373</td>\n",
       "      <td>1</td>\n",
       "      <td>2</td>\n",
       "      <td>4</td>\n",
       "      <td>4</td>\n",
       "      <td>1</td>\n",
       "      <td>92</td>\n",
       "      <td>...</td>\n",
       "      <td>3</td>\n",
       "      <td>2</td>\n",
       "      <td>0</td>\n",
       "      <td>7</td>\n",
       "      <td>3</td>\n",
       "      <td>3</td>\n",
       "      <td>0</td>\n",
       "      <td>0</td>\n",
       "      <td>0</td>\n",
       "      <td>0</td>\n",
       "    </tr>\n",
       "    <tr>\n",
       "      <th>3</th>\n",
       "      <td>33</td>\n",
       "      <td>0</td>\n",
       "      <td>1</td>\n",
       "      <td>1392</td>\n",
       "      <td>1</td>\n",
       "      <td>3</td>\n",
       "      <td>1</td>\n",
       "      <td>4</td>\n",
       "      <td>0</td>\n",
       "      <td>56</td>\n",
       "      <td>...</td>\n",
       "      <td>3</td>\n",
       "      <td>3</td>\n",
       "      <td>0</td>\n",
       "      <td>8</td>\n",
       "      <td>3</td>\n",
       "      <td>3</td>\n",
       "      <td>8</td>\n",
       "      <td>7</td>\n",
       "      <td>3</td>\n",
       "      <td>0</td>\n",
       "    </tr>\n",
       "    <tr>\n",
       "      <th>4</th>\n",
       "      <td>27</td>\n",
       "      <td>0</td>\n",
       "      <td>2</td>\n",
       "      <td>591</td>\n",
       "      <td>1</td>\n",
       "      <td>2</td>\n",
       "      <td>3</td>\n",
       "      <td>1</td>\n",
       "      <td>1</td>\n",
       "      <td>40</td>\n",
       "      <td>...</td>\n",
       "      <td>3</td>\n",
       "      <td>4</td>\n",
       "      <td>1</td>\n",
       "      <td>6</td>\n",
       "      <td>3</td>\n",
       "      <td>3</td>\n",
       "      <td>2</td>\n",
       "      <td>2</td>\n",
       "      <td>2</td>\n",
       "      <td>2</td>\n",
       "    </tr>\n",
       "  </tbody>\n",
       "</table>\n",
       "<p>5 rows × 30 columns</p>\n",
       "</div>"
      ],
      "text/plain": [
       "   Age  Attrition  BusinessTravel  DailyRate  Department  DistanceFromHome  \\\n",
       "0   41          1               2       1102           2                 1   \n",
       "1   49          0               1        279           1                 8   \n",
       "2   37          1               2       1373           1                 2   \n",
       "3   33          0               1       1392           1                 3   \n",
       "4   27          0               2        591           1                 2   \n",
       "\n",
       "   EducationField  EnvironmentSatisfaction  Gender  HourlyRate  ...  \\\n",
       "0               1                        2       0          94  ...   \n",
       "1               1                        3       1          61  ...   \n",
       "2               4                        4       1          92  ...   \n",
       "3               1                        4       0          56  ...   \n",
       "4               3                        1       1          40  ...   \n",
       "\n",
       "   PerformanceRating  RelationshipSatisfaction  StockOptionLevel  \\\n",
       "0                  3                         1                 0   \n",
       "1                  4                         4                 1   \n",
       "2                  3                         2                 0   \n",
       "3                  3                         3                 0   \n",
       "4                  3                         4                 1   \n",
       "\n",
       "   TotalWorkingYears  TrainingTimesLastYear  WorkLifeBalance  YearsAtCompany  \\\n",
       "0                  8                      0                1               6   \n",
       "1                 10                      3                3              10   \n",
       "2                  7                      3                3               0   \n",
       "3                  8                      3                3               8   \n",
       "4                  6                      3                3               2   \n",
       "\n",
       "   YearsInCurrentRole  YearsSinceLastPromotion  YearsWithCurrManager  \n",
       "0                   4                        0                     5  \n",
       "1                   7                        1                     7  \n",
       "2                   0                        0                     0  \n",
       "3                   7                        3                     0  \n",
       "4                   2                        2                     2  \n",
       "\n",
       "[5 rows x 30 columns]"
      ]
     },
     "execution_count": 45,
     "metadata": {},
     "output_type": "execute_result"
    }
   ],
   "source": [
    "data.head()"
   ]
  },
  {
   "cell_type": "code",
   "execution_count": 58,
   "id": "12aed300",
   "metadata": {},
   "outputs": [
    {
     "name": "stdout",
     "output_type": "stream",
     "text": [
      "<class 'pandas.core.frame.DataFrame'>\n",
      "RangeIndex: 1470 entries, 0 to 1469\n",
      "Data columns (total 30 columns):\n",
      " #   Column                    Non-Null Count  Dtype\n",
      "---  ------                    --------------  -----\n",
      " 0   Age                       1470 non-null   int64\n",
      " 1   Attrition                 1470 non-null   int64\n",
      " 2   BusinessTravel            1470 non-null   int32\n",
      " 3   DailyRate                 1470 non-null   int64\n",
      " 4   Department                1470 non-null   int32\n",
      " 5   DistanceFromHome          1470 non-null   int64\n",
      " 6   EducationField            1470 non-null   int32\n",
      " 7   EnvironmentSatisfaction   1470 non-null   int64\n",
      " 8   Gender                    1470 non-null   int32\n",
      " 9   HourlyRate                1470 non-null   int64\n",
      " 10  JobInvolvement            1470 non-null   int64\n",
      " 11  JobLevel                  1470 non-null   int64\n",
      " 12  JobRole                   1470 non-null   int32\n",
      " 13  JobSatisfaction           1470 non-null   int64\n",
      " 14  MaritalStatus             1470 non-null   int32\n",
      " 15  MonthlyIncome             1470 non-null   int64\n",
      " 16  MonthlyRate               1470 non-null   int64\n",
      " 17  NumCompaniesWorked        1470 non-null   int64\n",
      " 18  OverTime                  1470 non-null   int32\n",
      " 19  PercentSalaryHike         1470 non-null   int64\n",
      " 20  PerformanceRating         1470 non-null   int64\n",
      " 21  RelationshipSatisfaction  1470 non-null   int64\n",
      " 22  StockOptionLevel          1470 non-null   int64\n",
      " 23  TotalWorkingYears         1470 non-null   int64\n",
      " 24  TrainingTimesLastYear     1470 non-null   int64\n",
      " 25  WorkLifeBalance           1470 non-null   int64\n",
      " 26  YearsAtCompany            1470 non-null   int64\n",
      " 27  YearsInCurrentRole        1470 non-null   int64\n",
      " 28  YearsSinceLastPromotion   1470 non-null   int64\n",
      " 29  YearsWithCurrManager      1470 non-null   int64\n",
      "dtypes: int32(7), int64(23)\n",
      "memory usage: 304.5 KB\n"
     ]
    }
   ],
   "source": [
    "data.info()"
   ]
  },
  {
   "cell_type": "code",
   "execution_count": 59,
   "id": "34d9aa7b",
   "metadata": {},
   "outputs": [
    {
     "data": {
      "image/png": "[encoded data removed]",
      "text/plain": [
       "<Figure size 640x480 with 1 Axes>"
      ]
     },
     "metadata": {},
     "output_type": "display_data"
    },
    {
     "data": {
      "image/png": "[encoded data removed]",
      "text/plain": [
       "<Figure size 640x480 with 1 Axes>"
      ]
     },
     "metadata": {},
     "output_type": "display_data"
    },
    {
     "data": {
      "image/png": "[encoded data removed]",
      "text/plain": [
       "<Figure size 640x480 with 1 Axes>"
      ]
     },
     "metadata": {},
     "output_type": "display_data"
    },
    {
     "data": {
      "image/png": "[encoded data removed]",
      "text/plain": [
       "<Figure size 640x480 with 1 Axes>"
      ]
     },
     "metadata": {},
     "output_type": "display_data"
    },
    {
     "data": {
      "image/png": "[encoded data removed]",
      "text/plain": [
       "<Figure size 640x480 with 1 Axes>"
      ]
     },
     "metadata": {},
     "output_type": "display_data"
    },
    {
     "data": {
      "image/png": "[encoded data removed]",
      "text/plain": [
       "<Figure size 640x480 with 1 Axes>"
      ]
     },
     "metadata": {},
     "output_type": "display_data"
    },
    {
     "data": {
      "image/png": "[encoded data removed]",
      "text/plain": [
       "<Figure size 640x480 with 1 Axes>"
      ]
     },
     "metadata": {},
     "output_type": "display_data"
    },
    {
     "data": {
      "image/png": "[encoded data removed]",
      "text/plain": [
       "<Figure size 640x480 with 1 Axes>"
      ]
     },
     "metadata": {},
     "output_type": "display_data"
    },
    {
     "data": {
      "image/png": "[encoded data removed]",
      "text/plain": [
       "<Figure size 640x480 with 1 Axes>"
      ]
     },
     "metadata": {},
     "output_type": "display_data"
    },
    {
     "data": {
      "image/png": "[encoded data removed]",
      "text/plain": [
       "<Figure size 640x480 with 1 Axes>"
      ]
     },
     "metadata": {},
     "output_type": "display_data"
    },
    {
     "data": {
      "image/png": "[encoded data removed]",
      "text/plain": [
       "<Figure size 640x480 with 1 Axes>"
      ]
     },
     "metadata": {},
     "output_type": "display_data"
    },
    {
     "data": {
      "image/png": "[encoded data removed]",
      "text/plain": [
       "<Figure size 640x480 with 1 Axes>"
      ]
     },
     "metadata": {},
     "output_type": "display_data"
    },
    {
     "data": {
      "image/png": "[encoded data removed]",
      "text/plain": [
       "<Figure size 640x480 with 1 Axes>"
      ]
     },
     "metadata": {},
     "output_type": "display_data"
    },
    {
     "data": {
      "image/png": "[encoded data removed]",
      "text/plain": [
       "<Figure size 640x480 with 1 Axes>"
      ]
     },
     "metadata": {},
     "output_type": "display_data"
    },
    {
     "data": {
      "image/png": "[encoded data removed]",
      "text/plain": [
       "<Figure size 640x480 with 1 Axes>"
      ]
     },
     "metadata": {},
     "output_type": "display_data"
    },
    {
     "data": {
      "image/png": "[encoded data removed]",
      "text/plain": [
       "<Figure size 640x480 with 1 Axes>"
      ]
     },
     "metadata": {},
     "output_type": "display_data"
    },
    {
     "data": {
      "image/png": "[encoded data removed]",
      "text/plain": [
       "<Figure size 640x480 with 1 Axes>"
      ]
     },
     "metadata": {},
     "output_type": "display_data"
    },
    {
     "data": {
      "image/png": "[encoded data removed]",
      "text/plain": [
       "<Figure size 640x480 with 1 Axes>"
      ]
     },
     "metadata": {},
     "output_type": "display_data"
    },
    {
     "data": {
      "image/png": "[encoded data removed]",
      "text/plain": [
       "<Figure size 640x480 with 1 Axes>"
      ]
     },
     "metadata": {},
     "output_type": "display_data"
    },
    {
     "data": {
      "image/png": "[encoded data removed]",
      "text/plain": [
       "<Figure size 640x480 with 1 Axes>"
      ]
     },
     "metadata": {},
     "output_type": "display_data"
    },
    {
     "data": {
      "image/png": "[encoded data removed]",
      "text/plain": [
       "<Figure size 640x480 with 1 Axes>"
      ]
     },
     "metadata": {},
     "output_type": "display_data"
    },
    {
     "data": {
      "image/png": "[encoded data removed]",
      "text/plain": [
       "<Figure size 640x480 with 1 Axes>"
      ]
     },
     "metadata": {},
     "output_type": "display_data"
    },
    {
     "data": {
      "image/png": "[encoded data removed]",
      "text/plain": [
       "<Figure size 640x480 with 1 Axes>"
      ]
     },
     "metadata": {},
     "output_type": "display_data"
    },
    {
     "data": {
      "image/png": "[encoded data removed]",
      "text/plain": [
       "<Figure size 640x480 with 1 Axes>"
      ]
     },
     "metadata": {},
     "output_type": "display_data"
    },
    {
     "data": {
      "image/png": "[encoded data removed]",
      "text/plain": [
       "<Figure size 640x480 with 1 Axes>"
      ]
     },
     "metadata": {},
     "output_type": "display_data"
    },
    {
     "data": {
      "image/png": "[encoded data removed]",
      "text/plain": [
       "<Figure size 640x480 with 1 Axes>"
      ]
     },
     "metadata": {},
     "output_type": "display_data"
    },
    {
     "data": {
      "image/png": "[encoded data removed]",
      "text/plain": [
       "<Figure size 640x480 with 1 Axes>"
      ]
     },
     "metadata": {},
     "output_type": "display_data"
    },
    {
     "data": {
      "image/png": "[encoded data removed]",
      "text/plain": [
       "<Figure size 640x480 with 1 Axes>"
      ]
     },
     "metadata": {},
     "output_type": "display_data"
    },
    {
     "data": {
      "image/png": "[encoded data removed]",
      "text/plain": [
       "<Figure size 640x480 with 1 Axes>"
      ]
     },
     "metadata": {},
     "output_type": "display_data"
    },
    {
     "data": {
      "image/png": "[encoded data removed]",
      "text/plain": [
       "<Figure size 640x480 with 1 Axes>"
      ]
     },
     "metadata": {},
     "output_type": "display_data"
    }
   ],
   "source": [
    "for col in data.columns:\n",
    "    sns.boxplot(data=data,x=col)\n",
    "    plt.xlabel(col)\n",
    "    plt.show()"
   ]
  },
  {
   "cell_type": "code",
   "execution_count": 60,
   "id": "1e22c572",
   "metadata": {},
   "outputs": [
    {
     "data": {
      "text/plain": [
       "Index(['Age', 'Attrition', 'BusinessTravel', 'DailyRate', 'Department',\n",
       "       'DistanceFromHome', 'EducationField', 'EnvironmentSatisfaction',\n",
       "       'Gender', 'HourlyRate', 'JobInvolvement', 'JobLevel', 'JobRole',\n",
       "       'JobSatisfaction', 'MaritalStatus', 'MonthlyIncome', 'MonthlyRate',\n",
       "       'NumCompaniesWorked', 'OverTime', 'PercentSalaryHike',\n",
       "       'PerformanceRating', 'RelationshipSatisfaction', 'StockOptionLevel',\n",
       "       'TotalWorkingYears', 'TrainingTimesLastYear', 'WorkLifeBalance',\n",
       "       'YearsAtCompany', 'YearsInCurrentRole', 'YearsSinceLastPromotion',\n",
       "       'YearsWithCurrManager'],\n",
       "      dtype='object')"
      ]
     },
     "execution_count": 60,
     "metadata": {},
     "output_type": "execute_result"
    }
   ],
   "source": [
    "data.columns"
   ]
  },
  {
   "cell_type": "code",
   "execution_count": 65,
   "id": "5abcadb5",
   "metadata": {},
   "outputs": [],
   "source": [
    "x = data.drop(\"Attrition\",axis=1)\n",
    "y = data['Attrition']"
   ]
  },
  {
   "cell_type": "code",
   "execution_count": 66,
   "id": "9371eb4f",
   "metadata": {},
   "outputs": [
    {
     "data": {
      "text/html": [
       "<div>\n",
       "<style scoped>\n",
       "    .dataframe tbody tr th:only-of-type {\n",
       "        vertical-align: middle;\n",
       "    }\n",
       "\n",
       "    .dataframe tbody tr th {\n",
       "        vertical-align: top;\n",
       "    }\n",
       "\n",
       "    .dataframe thead th {\n",
       "        text-align: right;\n",
       "    }\n",
       "</style>\n",
       "<table border=\"1\" class=\"dataframe\">\n",
       "  <thead>\n",
       "    <tr style=\"text-align: right;\">\n",
       "      <th></th>\n",
       "      <th>Age</th>\n",
       "      <th>BusinessTravel</th>\n",
       "      <th>DailyRate</th>\n",
       "      <th>Department</th>\n",
       "      <th>DistanceFromHome</th>\n",
       "      <th>EducationField</th>\n",
       "      <th>EnvironmentSatisfaction</th>\n",
       "      <th>Gender</th>\n",
       "      <th>HourlyRate</th>\n",
       "      <th>JobInvolvement</th>\n",
       "      <th>...</th>\n",
       "      <th>PerformanceRating</th>\n",
       "      <th>RelationshipSatisfaction</th>\n",
       "      <th>StockOptionLevel</th>\n",
       "      <th>TotalWorkingYears</th>\n",
       "      <th>TrainingTimesLastYear</th>\n",
       "      <th>WorkLifeBalance</th>\n",
       "      <th>YearsAtCompany</th>\n",
       "      <th>YearsInCurrentRole</th>\n",
       "      <th>YearsSinceLastPromotion</th>\n",
       "      <th>YearsWithCurrManager</th>\n",
       "    </tr>\n",
       "  </thead>\n",
       "  <tbody>\n",
       "    <tr>\n",
       "      <th>0</th>\n",
       "      <td>41</td>\n",
       "      <td>2</td>\n",
       "      <td>1102</td>\n",
       "      <td>2</td>\n",
       "      <td>1</td>\n",
       "      <td>1</td>\n",
       "      <td>2</td>\n",
       "      <td>0</td>\n",
       "      <td>94</td>\n",
       "      <td>3</td>\n",
       "      <td>...</td>\n",
       "      <td>3</td>\n",
       "      <td>1</td>\n",
       "      <td>0</td>\n",
       "      <td>8</td>\n",
       "      <td>0</td>\n",
       "      <td>1</td>\n",
       "      <td>6</td>\n",
       "      <td>4</td>\n",
       "      <td>0</td>\n",
       "      <td>5</td>\n",
       "    </tr>\n",
       "    <tr>\n",
       "      <th>1</th>\n",
       "      <td>49</td>\n",
       "      <td>1</td>\n",
       "      <td>279</td>\n",
       "      <td>1</td>\n",
       "      <td>8</td>\n",
       "      <td>1</td>\n",
       "      <td>3</td>\n",
       "      <td>1</td>\n",
       "      <td>61</td>\n",
       "      <td>2</td>\n",
       "      <td>...</td>\n",
       "      <td>4</td>\n",
       "      <td>4</td>\n",
       "      <td>1</td>\n",
       "      <td>10</td>\n",
       "      <td>3</td>\n",
       "      <td>3</td>\n",
       "      <td>10</td>\n",
       "      <td>7</td>\n",
       "      <td>1</td>\n",
       "      <td>7</td>\n",
       "    </tr>\n",
       "    <tr>\n",
       "      <th>2</th>\n",
       "      <td>37</td>\n",
       "      <td>2</td>\n",
       "      <td>1373</td>\n",
       "      <td>1</td>\n",
       "      <td>2</td>\n",
       "      <td>4</td>\n",
       "      <td>4</td>\n",
       "      <td>1</td>\n",
       "      <td>92</td>\n",
       "      <td>2</td>\n",
       "      <td>...</td>\n",
       "      <td>3</td>\n",
       "      <td>2</td>\n",
       "      <td>0</td>\n",
       "      <td>7</td>\n",
       "      <td>3</td>\n",
       "      <td>3</td>\n",
       "      <td>0</td>\n",
       "      <td>0</td>\n",
       "      <td>0</td>\n",
       "      <td>0</td>\n",
       "    </tr>\n",
       "    <tr>\n",
       "      <th>3</th>\n",
       "      <td>33</td>\n",
       "      <td>1</td>\n",
       "      <td>1392</td>\n",
       "      <td>1</td>\n",
       "      <td>3</td>\n",
       "      <td>1</td>\n",
       "      <td>4</td>\n",
       "      <td>0</td>\n",
       "      <td>56</td>\n",
       "      <td>3</td>\n",
       "      <td>...</td>\n",
       "      <td>3</td>\n",
       "      <td>3</td>\n",
       "      <td>0</td>\n",
       "      <td>8</td>\n",
       "      <td>3</td>\n",
       "      <td>3</td>\n",
       "      <td>8</td>\n",
       "      <td>7</td>\n",
       "      <td>3</td>\n",
       "      <td>0</td>\n",
       "    </tr>\n",
       "    <tr>\n",
       "      <th>4</th>\n",
       "      <td>27</td>\n",
       "      <td>2</td>\n",
       "      <td>591</td>\n",
       "      <td>1</td>\n",
       "      <td>2</td>\n",
       "      <td>3</td>\n",
       "      <td>1</td>\n",
       "      <td>1</td>\n",
       "      <td>40</td>\n",
       "      <td>3</td>\n",
       "      <td>...</td>\n",
       "      <td>3</td>\n",
       "      <td>4</td>\n",
       "      <td>1</td>\n",
       "      <td>6</td>\n",
       "      <td>3</td>\n",
       "      <td>3</td>\n",
       "      <td>2</td>\n",
       "      <td>2</td>\n",
       "      <td>2</td>\n",
       "      <td>2</td>\n",
       "    </tr>\n",
       "  </tbody>\n",
       "</table>\n",
       "<p>5 rows × 29 columns</p>\n",
       "</div>"
      ],
      "text/plain": [
       "   Age  BusinessTravel  DailyRate  Department  DistanceFromHome  \\\n",
       "0   41               2       1102           2                 1   \n",
       "1   49               1        279           1                 8   \n",
       "2   37               2       1373           1                 2   \n",
       "3   33               1       1392           1                 3   \n",
       "4   27               2        591           1                 2   \n",
       "\n",
       "   EducationField  EnvironmentSatisfaction  Gender  HourlyRate  \\\n",
       "0               1                        2       0          94   \n",
       "1               1                        3       1          61   \n",
       "2               4                        4       1          92   \n",
       "3               1                        4       0          56   \n",
       "4               3                        1       1          40   \n",
       "\n",
       "   JobInvolvement  ...  PerformanceRating  RelationshipSatisfaction  \\\n",
       "0               3  ...                  3                         1   \n",
       "1               2  ...                  4                         4   \n",
       "2               2  ...                  3                         2   \n",
       "3               3  ...                  3                         3   \n",
       "4               3  ...                  3                         4   \n",
       "\n",
       "   StockOptionLevel  TotalWorkingYears  TrainingTimesLastYear  \\\n",
       "0                 0                  8                      0   \n",
       "1                 1                 10                      3   \n",
       "2                 0                  7                      3   \n",
       "3                 0                  8                      3   \n",
       "4                 1                  6                      3   \n",
       "\n",
       "   WorkLifeBalance  YearsAtCompany  YearsInCurrentRole  \\\n",
       "0                1               6                   4   \n",
       "1                3              10                   7   \n",
       "2                3               0                   0   \n",
       "3                3               8                   7   \n",
       "4                3               2                   2   \n",
       "\n",
       "   YearsSinceLastPromotion  YearsWithCurrManager  \n",
       "0                        0                     5  \n",
       "1                        1                     7  \n",
       "2                        0                     0  \n",
       "3                        3                     0  \n",
       "4                        2                     2  \n",
       "\n",
       "[5 rows x 29 columns]"
      ]
     },
     "execution_count": 66,
     "metadata": {},
     "output_type": "execute_result"
    }
   ],
   "source": [
    "x.head()"
   ]
  },
  {
   "cell_type": "code",
   "execution_count": 67,
   "id": "4420d0d4",
   "metadata": {},
   "outputs": [],
   "source": [
    "# from statsmodels.stats.outliers_influence import variance_inflation_factor"
   ]
  },
  {
   "cell_type": "code",
   "execution_count": 68,
   "id": "8c96fc4a",
   "metadata": {},
   "outputs": [],
   "source": [
    "# vif_dataframe = pd.DataFrame()\n",
    "# vif_dataframe[\"columns\"] = x.columns\n",
    "# vif_dataframe[\"VIF_values\"] = [variance_inflation_factor(x.values,i) for i in range(len(x.columns))]\n",
    "# vif_dataframe"
   ]
  },
  {
   "cell_type": "code",
   "execution_count": 69,
   "id": "dadf8a0d",
   "metadata": {},
   "outputs": [],
   "source": [
    "# plt.figure(figsize=(20,20),dpi=130)\n",
    "# sns.heatmap(x.corr(),annot=True,cmap='crest')"
   ]
  },
  {
   "cell_type": "code",
   "execution_count": 70,
   "id": "08886e00",
   "metadata": {},
   "outputs": [],
   "source": [
    "# for index, row in vif_dataframe.iterrows():\n",
    "#     if row['VIF_values'] > 10:\n",
    "#         column_to_remove = row['columns']\n",
    "#         x.drop(column_to_remove, axis=1, inplace=True)"
   ]
  },
  {
   "cell_type": "code",
   "execution_count": 71,
   "id": "1fb77b3e",
   "metadata": {},
   "outputs": [],
   "source": [
    "# vif_dataframe = pd.DataFrame()\n",
    "# vif_dataframe[\"columns\"] = x.columns\n",
    "# vif_dataframe[\"VIF_values\"] = [variance_inflation_factor(x.values,i) for i in range(len(x.columns))]\n",
    "# vif_dataframe"
   ]
  },
  {
   "cell_type": "code",
   "execution_count": 72,
   "id": "82319cb5",
   "metadata": {},
   "outputs": [],
   "source": [
    "# x.shape, y.shape"
   ]
  },
  {
   "cell_type": "code",
   "execution_count": 73,
   "id": "be1402f1",
   "metadata": {},
   "outputs": [],
   "source": [
    "## Scaling the data\n",
    "from sklearn.preprocessing import StandardScaler\n",
    "scaler = StandardScaler()\n",
    "scaled_X = scaler.fit_transform(x)"
   ]
  },
  {
   "cell_type": "code",
   "execution_count": 74,
   "id": "25c34e6a",
   "metadata": {},
   "outputs": [
    {
     "data": {
      "text/plain": [
       "((1029, 29), (441, 29), (1029,), (441,))"
      ]
     },
     "execution_count": 74,
     "metadata": {},
     "output_type": "execute_result"
    }
   ],
   "source": [
    "## Spliting the data\n",
    "\n",
    "from sklearn.model_selection import train_test_split\n",
    "x_train,x_test,y_train,y_test = train_test_split(scaled_X,y,train_size=0.70,stratify = y)\n",
    "x_train.shape,x_test.shape,y_train.shape,y_test.shape"
   ]
  },
  {
   "cell_type": "code",
   "execution_count": 75,
   "id": "8bce9813",
   "metadata": {},
   "outputs": [],
   "source": [
    "## Building Logistic Regression model\n",
    "\n",
    "from sklearn.linear_model import LogisticRegression\n",
    "classifier = LogisticRegression(class_weight='balanced')"
   ]
  },
  {
   "cell_type": "code",
   "execution_count": 76,
   "id": "983595a1",
   "metadata": {},
   "outputs": [],
   "source": [
    "classifier.fit(x_train,y_train)\n",
    "predicted_values = classifier.predict(x_test)\n",
    "predicted_proba = classifier.predict_proba(x_test)"
   ]
  },
  {
   "cell_type": "code",
   "execution_count": 77,
   "id": "115447e1",
   "metadata": {},
   "outputs": [
    {
     "data": {
      "text/plain": [
       "array([0, 0, 0, 0, 0, 0, 0, 1, 0, 0, 0, 0, 1, 0, 1, 0, 0, 0, 0, 1, 0, 0,\n",
       "       1, 0, 0, 0, 0, 1, 0, 0, 0, 0, 0, 0, 0, 1, 0, 1, 0, 0, 0, 0, 0, 1,\n",
       "       0, 1, 0, 0, 0, 0, 0, 1, 0, 0, 0, 0, 1, 0, 1, 1, 0, 1, 0, 0, 0, 0,\n",
       "       1, 0, 1, 0, 0, 1, 0, 0, 0, 1, 0, 1, 1, 0, 1, 1, 0, 1, 1, 0, 0, 0,\n",
       "       1, 0, 0, 1, 0, 0, 0, 0, 0, 0, 0, 0, 1, 1, 0, 0, 0, 1, 1, 0, 0, 1,\n",
       "       1, 0, 0, 0, 0, 0, 0, 0, 0, 0, 0, 0, 1, 1, 0, 0, 1, 0, 1, 0, 0, 0,\n",
       "       1, 1, 0, 0, 0, 1, 0, 0, 0, 0, 0, 1, 1, 0, 0, 0, 1, 1, 1, 0, 1, 0,\n",
       "       1, 0, 1, 1, 1, 0, 0, 0, 0, 0, 1, 0, 0, 0, 0, 0, 0, 0, 1, 0, 0, 0,\n",
       "       1, 1, 0, 0, 0, 0, 1, 1, 1, 1, 0, 1, 0, 0, 0, 1, 0, 1, 0, 0, 1, 0,\n",
       "       0, 0, 1, 0, 0, 1, 0, 1, 0, 0, 0, 0, 0, 0, 1, 0, 1, 0, 1, 1, 1, 0,\n",
       "       0, 1, 1, 0, 0, 0, 1, 1, 0, 0, 1, 0, 0, 0, 1, 0, 0, 1, 0, 0, 1, 1,\n",
       "       0, 0, 0, 1, 0, 0, 0, 1, 0, 0, 0, 1, 0, 0, 1, 0, 1, 0, 0, 0, 1, 0,\n",
       "       0, 1, 0, 1, 0, 0, 1, 0, 0, 0, 0, 1, 0, 0, 0, 0, 0, 1, 0, 0, 0, 1,\n",
       "       0, 0, 0, 0, 1, 1, 1, 0, 0, 0, 1, 0, 1, 1, 0, 1, 0, 0, 0, 0, 0, 1,\n",
       "       0, 1, 0, 1, 0, 1, 1, 0, 0, 0, 1, 0, 0, 1, 1, 0, 0, 0, 0, 0, 0, 0,\n",
       "       1, 0, 0, 0, 0, 0, 1, 0, 1, 0, 0, 0, 0, 0, 0, 0, 1, 1, 0, 0, 1, 1,\n",
       "       0, 1, 0, 1, 1, 0, 0, 0, 1, 0, 0, 0, 1, 0, 0, 0, 0, 1, 0, 1, 1, 0,\n",
       "       1, 0, 0, 0, 0, 0, 0, 1, 0, 0, 1, 0, 1, 1, 1, 0, 1, 0, 0, 0, 0, 0,\n",
       "       1, 0, 0, 1, 1, 0, 1, 0, 0, 1, 0, 1, 0, 1, 0, 1, 1, 0, 1, 0, 1, 1,\n",
       "       1, 1, 1, 0, 1, 0, 0, 0, 0, 0, 0, 1, 1, 1, 0, 1, 0, 1, 0, 1, 1, 0,\n",
       "       1], dtype=int64)"
      ]
     },
     "execution_count": 77,
     "metadata": {},
     "output_type": "execute_result"
    }
   ],
   "source": [
    "predicted_values"
   ]
  },
  {
   "cell_type": "code",
   "execution_count": 78,
   "id": "5ac88b05",
   "metadata": {},
   "outputs": [
    {
     "data": {
      "text/plain": [
       "array([[5.29891494e-01, 4.70108506e-01],\n",
       "       [8.09391611e-01, 1.90608389e-01],\n",
       "       [9.67165134e-01, 3.28348663e-02],\n",
       "       [9.74590439e-01, 2.54095615e-02],\n",
       "       [7.28610842e-01, 2.71389158e-01],\n",
       "       [5.20057116e-01, 4.79942884e-01],\n",
       "       [6.28113412e-01, 3.71886588e-01],\n",
       "       [7.50323944e-02, 9.24967606e-01],\n",
       "       [8.20712853e-01, 1.79287147e-01],\n",
       "       [9.43005673e-01, 5.69943265e-02],\n",
       "       [6.63605826e-01, 3.36394174e-01],\n",
       "       [8.81520216e-01, 1.18479784e-01],\n",
       "       [3.07233904e-01, 6.92766096e-01],\n",
       "       [9.31434491e-01, 6.85655085e-02],\n",
       "       [1.22912669e-01, 8.77087331e-01],\n",
       "       [6.99136599e-01, 3.00863401e-01],\n",
       "       [5.17694136e-01, 4.82305864e-01],\n",
       "       [5.82332732e-01, 4.17667268e-01],\n",
       "       [9.75864355e-01, 2.41356447e-02],\n",
       "       [4.94769999e-01, 5.05230001e-01],\n",
       "       [5.91596987e-01, 4.08403013e-01],\n",
       "       [7.70097845e-01, 2.29902155e-01],\n",
       "       [2.51860563e-01, 7.48139437e-01],\n",
       "       [9.93353772e-01, 6.64622850e-03],\n",
       "       [6.68383015e-01, 3.31616985e-01],\n",
       "       [6.46781537e-01, 3.53218463e-01],\n",
       "       [9.90301841e-01, 9.69815915e-03],\n",
       "       [4.05219830e-01, 5.94780170e-01],\n",
       "       [9.38540828e-01, 6.14591723e-02],\n",
       "       [9.98845137e-01, 1.15486298e-03],\n",
       "       [9.95553322e-01, 4.44667759e-03],\n",
       "       [7.43890928e-01, 2.56109072e-01],\n",
       "       [6.26142388e-01, 3.73857612e-01],\n",
       "       [7.10939667e-01, 2.89060333e-01],\n",
       "       [9.97887508e-01, 2.11249197e-03],\n",
       "       [3.84823201e-01, 6.15176799e-01],\n",
       "       [9.53491079e-01, 4.65089209e-02],\n",
       "       [1.03619810e-01, 8.96380190e-01],\n",
       "       [9.02582376e-01, 9.74176245e-02],\n",
       "       [8.67215871e-01, 1.32784129e-01],\n",
       "       [8.56223663e-01, 1.43776337e-01],\n",
       "       [9.60252438e-01, 3.97475624e-02],\n",
       "       [6.11269798e-01, 3.88730202e-01],\n",
       "       [2.13284925e-01, 7.86715075e-01],\n",
       "       [9.44749268e-01, 5.52507319e-02],\n",
       "       [4.83157855e-01, 5.16842145e-01],\n",
       "       [8.55545815e-01, 1.44454185e-01],\n",
       "       [7.21741022e-01, 2.78258978e-01],\n",
       "       [6.33608996e-01, 3.66391004e-01],\n",
       "       [9.44399661e-01, 5.56003393e-02],\n",
       "       [6.92736086e-01, 3.07263914e-01],\n",
       "       [3.23494670e-01, 6.76505330e-01],\n",
       "       [8.09695678e-01, 1.90304322e-01],\n",
       "       [8.86565600e-01, 1.13434400e-01],\n",
       "       [7.86462594e-01, 2.13537406e-01],\n",
       "       [9.16044320e-01, 8.39556804e-02],\n",
       "       [3.59317323e-01, 6.40682677e-01],\n",
       "       [7.41087555e-01, 2.58912445e-01],\n",
       "       [2.85274975e-01, 7.14725025e-01],\n",
       "       [1.62308141e-01, 8.37691859e-01],\n",
       "       [9.70347628e-01, 2.96523724e-02],\n",
       "       [4.54222920e-01, 5.45777080e-01],\n",
       "       [5.30990104e-01, 4.69009896e-01],\n",
       "       [8.92646332e-01, 1.07353668e-01],\n",
       "       [7.30772541e-01, 2.69227459e-01],\n",
       "       [7.25737008e-01, 2.74262992e-01],\n",
       "       [3.52109376e-01, 6.47890624e-01],\n",
       "       [9.67469913e-01, 3.25300866e-02],\n",
       "       [2.56613011e-01, 7.43386989e-01],\n",
       "       [7.99171766e-01, 2.00828234e-01],\n",
       "       [9.96139781e-01, 3.86021923e-03],\n",
       "       [1.54271490e-01, 8.45728510e-01],\n",
       "       [9.61065585e-01, 3.89344153e-02],\n",
       "       [9.97951943e-01, 2.04805683e-03],\n",
       "       [8.09312025e-01, 1.90687975e-01],\n",
       "       [5.28445828e-02, 9.47155417e-01],\n",
       "       [8.29015071e-01, 1.70984929e-01],\n",
       "       [3.95215296e-02, 9.60478470e-01],\n",
       "       [7.39412978e-02, 9.26058702e-01],\n",
       "       [9.77589776e-01, 2.24102239e-02],\n",
       "       [2.89270011e-01, 7.10729989e-01],\n",
       "       [1.21785004e-01, 8.78214996e-01],\n",
       "       [9.42869376e-01, 5.71306241e-02],\n",
       "       [3.73690889e-01, 6.26309111e-01],\n",
       "       [7.31095593e-02, 9.26890441e-01],\n",
       "       [8.86505974e-01, 1.13494026e-01],\n",
       "       [8.85511137e-01, 1.14488863e-01],\n",
       "       [6.03278605e-01, 3.96721395e-01],\n",
       "       [3.11947219e-01, 6.88052781e-01],\n",
       "       [9.95703557e-01, 4.29644297e-03],\n",
       "       [9.35496980e-01, 6.45030202e-02],\n",
       "       [7.38729191e-02, 9.26127081e-01],\n",
       "       [9.64056524e-01, 3.59434758e-02],\n",
       "       [7.37419833e-01, 2.62580167e-01],\n",
       "       [7.07809506e-01, 2.92190494e-01],\n",
       "       [9.53234726e-01, 4.67652745e-02],\n",
       "       [7.40923890e-01, 2.59076110e-01],\n",
       "       [7.53123419e-01, 2.46876581e-01],\n",
       "       [9.90467543e-01, 9.53245660e-03],\n",
       "       [9.63150269e-01, 3.68497310e-02],\n",
       "       [3.85965593e-01, 6.14034407e-01],\n",
       "       [2.72987719e-01, 7.27012281e-01],\n",
       "       [8.41084105e-01, 1.58915895e-01],\n",
       "       [7.90834357e-01, 2.09165643e-01],\n",
       "       [8.64539805e-01, 1.35460195e-01],\n",
       "       [7.98660773e-02, 9.20133923e-01],\n",
       "       [4.62118310e-01, 5.37881690e-01],\n",
       "       [9.09866504e-01, 9.01334963e-02],\n",
       "       [6.53460551e-01, 3.46539449e-01],\n",
       "       [4.79939070e-01, 5.20060930e-01],\n",
       "       [2.93297310e-01, 7.06702690e-01],\n",
       "       [6.23999171e-01, 3.76000829e-01],\n",
       "       [8.51060181e-01, 1.48939819e-01],\n",
       "       [9.89279496e-01, 1.07205037e-02],\n",
       "       [8.29712598e-01, 1.70287402e-01],\n",
       "       [9.49488812e-01, 5.05111880e-02],\n",
       "       [9.74560629e-01, 2.54393710e-02],\n",
       "       [8.95189159e-01, 1.04810841e-01],\n",
       "       [5.64843422e-01, 4.35156578e-01],\n",
       "       [5.78345768e-01, 4.21654232e-01],\n",
       "       [9.53316246e-01, 4.66837542e-02],\n",
       "       [5.25713027e-01, 4.74286973e-01],\n",
       "       [4.38508583e-01, 5.61491417e-01],\n",
       "       [3.42770919e-01, 6.57229081e-01],\n",
       "       [9.54135733e-01, 4.58642673e-02],\n",
       "       [9.49653761e-01, 5.03462390e-02],\n",
       "       [3.45628575e-01, 6.54371425e-01],\n",
       "       [6.47812830e-01, 3.52187170e-01],\n",
       "       [3.35271931e-01, 6.64728069e-01],\n",
       "       [9.18291180e-01, 8.17088199e-02],\n",
       "       [9.33964387e-01, 6.60356133e-02],\n",
       "       [9.60488303e-01, 3.95116967e-02],\n",
       "       [3.21480561e-01, 6.78519439e-01],\n",
       "       [3.77392731e-01, 6.22607269e-01],\n",
       "       [6.38688948e-01, 3.61311052e-01],\n",
       "       [6.72750818e-01, 3.27249182e-01],\n",
       "       [8.98382201e-01, 1.01617799e-01],\n",
       "       [2.96625093e-01, 7.03374907e-01],\n",
       "       [6.57626015e-01, 3.42373985e-01],\n",
       "       [8.95131205e-01, 1.04868795e-01],\n",
       "       [8.56489331e-01, 1.43510669e-01],\n",
       "       [9.88688519e-01, 1.13114814e-02],\n",
       "       [7.59284568e-01, 2.40715432e-01],\n",
       "       [1.08266518e-01, 8.91733482e-01],\n",
       "       [4.02035388e-01, 5.97964612e-01],\n",
       "       [9.38264122e-01, 6.17358783e-02],\n",
       "       [7.77497131e-01, 2.22502869e-01],\n",
       "       [5.81870225e-01, 4.18129775e-01],\n",
       "       [4.13933643e-01, 5.86066357e-01],\n",
       "       [4.55138610e-02, 9.54486139e-01],\n",
       "       [1.36288360e-01, 8.63711640e-01],\n",
       "       [7.12332831e-01, 2.87667169e-01],\n",
       "       [3.50217782e-01, 6.49782218e-01],\n",
       "       [7.97580140e-01, 2.02419860e-01],\n",
       "       [3.80705547e-01, 6.19294453e-01],\n",
       "       [9.83125893e-01, 1.68741068e-02],\n",
       "       [4.62201690e-01, 5.37798310e-01],\n",
       "       [4.91565824e-01, 5.08434176e-01],\n",
       "       [1.17036904e-01, 8.82963096e-01],\n",
       "       [6.17137854e-01, 3.82862146e-01],\n",
       "       [9.98469323e-01, 1.53067659e-03],\n",
       "       [9.00400564e-01, 9.95994357e-02],\n",
       "       [9.30231090e-01, 6.97689103e-02],\n",
       "       [8.55558360e-01, 1.44441640e-01],\n",
       "       [1.95702829e-01, 8.04297171e-01],\n",
       "       [9.46250348e-01, 5.37496521e-02],\n",
       "       [7.68429725e-01, 2.31570275e-01],\n",
       "       [8.31275513e-01, 1.68724487e-01],\n",
       "       [9.52332586e-01, 4.76674135e-02],\n",
       "       [6.69422593e-01, 3.30577407e-01],\n",
       "       [8.97010429e-01, 1.02989571e-01],\n",
       "       [8.89779710e-01, 1.10220290e-01],\n",
       "       [3.58760167e-01, 6.41239833e-01],\n",
       "       [7.43074869e-01, 2.56925131e-01],\n",
       "       [9.03628788e-01, 9.63712120e-02],\n",
       "       [7.05250919e-01, 2.94749081e-01],\n",
       "       [1.37782323e-01, 8.62217677e-01],\n",
       "       [9.92006072e-02, 9.00799393e-01],\n",
       "       [9.33614129e-01, 6.63858715e-02],\n",
       "       [9.87928544e-01, 1.20714562e-02],\n",
       "       [8.07792651e-01, 1.92207349e-01],\n",
       "       [5.95100903e-01, 4.04899097e-01],\n",
       "       [3.93733774e-01, 6.06266226e-01],\n",
       "       [4.58295392e-01, 5.41704608e-01],\n",
       "       [4.42411966e-01, 5.57588034e-01],\n",
       "       [4.45054301e-01, 5.54945699e-01],\n",
       "       [5.23928524e-01, 4.76071476e-01],\n",
       "       [4.23752585e-02, 9.57624741e-01],\n",
       "       [7.17839130e-01, 2.82160870e-01],\n",
       "       [9.66450519e-01, 3.35494809e-02],\n",
       "       [9.17177447e-01, 8.28225526e-02],\n",
       "       [2.91058548e-01, 7.08941452e-01],\n",
       "       [8.92023110e-01, 1.07976890e-01],\n",
       "       [2.30831688e-01, 7.69168312e-01],\n",
       "       [8.45321045e-01, 1.54678955e-01],\n",
       "       [9.09887984e-01, 9.01120158e-02],\n",
       "       [4.94819879e-01, 5.05180121e-01],\n",
       "       [8.16552613e-01, 1.83447387e-01],\n",
       "       [9.49879967e-01, 5.01200329e-02],\n",
       "       [7.32821989e-01, 2.67178011e-01],\n",
       "       [1.16234572e-01, 8.83765428e-01],\n",
       "       [8.73227819e-01, 1.26772181e-01],\n",
       "       [7.41630108e-01, 2.58369892e-01],\n",
       "       [2.28887458e-01, 7.71112542e-01],\n",
       "       [5.43002778e-01, 4.56997222e-01],\n",
       "       [2.87476818e-01, 7.12523182e-01],\n",
       "       [9.91734419e-01, 8.26558104e-03],\n",
       "       [9.75396123e-01, 2.46038766e-02],\n",
       "       [6.78813351e-01, 3.21186649e-01],\n",
       "       [6.68059664e-01, 3.31940336e-01],\n",
       "       [5.99072580e-01, 4.00927420e-01],\n",
       "       [7.70238705e-01, 2.29761295e-01],\n",
       "       [2.44201522e-01, 7.55798478e-01],\n",
       "       [5.42420831e-01, 4.57579169e-01],\n",
       "       [1.34609774e-01, 8.65390226e-01],\n",
       "       [8.99329656e-01, 1.00670344e-01],\n",
       "       [4.28070179e-01, 5.71929821e-01],\n",
       "       [4.42563755e-01, 5.57436245e-01],\n",
       "       [2.58737903e-01, 7.41262097e-01],\n",
       "       [7.56604607e-01, 2.43395393e-01],\n",
       "       [9.65416809e-01, 3.45831912e-02],\n",
       "       [4.46445877e-01, 5.53554123e-01],\n",
       "       [1.77038127e-01, 8.22961873e-01],\n",
       "       [8.18280842e-01, 1.81719158e-01],\n",
       "       [7.74025873e-01, 2.25974127e-01],\n",
       "       [7.58261590e-01, 2.41738410e-01],\n",
       "       [3.93830754e-01, 6.06169246e-01],\n",
       "       [2.91140036e-01, 7.08859964e-01],\n",
       "       [6.98826930e-01, 3.01173070e-01],\n",
       "       [9.65434471e-01, 3.45655295e-02],\n",
       "       [2.83726452e-01, 7.16273548e-01],\n",
       "       [8.38752096e-01, 1.61247904e-01],\n",
       "       [8.06543153e-01, 1.93456847e-01],\n",
       "       [6.24122865e-01, 3.75877135e-01],\n",
       "       [4.53435108e-01, 5.46564892e-01],\n",
       "       [9.79373629e-01, 2.06263710e-02],\n",
       "       [9.31708369e-01, 6.82916308e-02],\n",
       "       [4.90656655e-01, 5.09343345e-01],\n",
       "       [8.31535705e-01, 1.68464295e-01],\n",
       "       [6.80621600e-01, 3.19378400e-01],\n",
       "       [4.13138767e-01, 5.86861233e-01],\n",
       "       [1.98516347e-01, 8.01483653e-01],\n",
       "       [7.11982667e-01, 2.88017333e-01],\n",
       "       [6.36501557e-01, 3.63498443e-01],\n",
       "       [5.43011436e-01, 4.56988564e-01],\n",
       "       [1.94036038e-01, 8.05963962e-01],\n",
       "       [9.31954649e-01, 6.80453506e-02],\n",
       "       [5.20173338e-01, 4.79826662e-01],\n",
       "       [9.09586645e-01, 9.04133551e-02],\n",
       "       [4.85200713e-01, 5.14799287e-01],\n",
       "       [5.78566424e-01, 4.21433576e-01],\n",
       "       [9.77031925e-01, 2.29680751e-02],\n",
       "       [9.18644662e-01, 8.13553381e-02],\n",
       "       [4.69272650e-01, 5.30727350e-01],\n",
       "       [8.60052815e-01, 1.39947185e-01],\n",
       "       [9.61565713e-01, 3.84342874e-02],\n",
       "       [2.98966935e-01, 7.01033065e-01],\n",
       "       [7.86028837e-01, 2.13971163e-01],\n",
       "       [1.54094922e-01, 8.45905078e-01],\n",
       "       [9.40006641e-01, 5.99933588e-02],\n",
       "       [8.94297045e-01, 1.05702955e-01],\n",
       "       [8.24259806e-01, 1.75740194e-01],\n",
       "       [4.59801965e-01, 5.40198035e-01],\n",
       "       [9.72422073e-01, 2.75779274e-02],\n",
       "       [8.53650211e-01, 1.46349789e-01],\n",
       "       [2.66049806e-01, 7.33950194e-01],\n",
       "       [8.02262461e-01, 1.97737539e-01],\n",
       "       [4.68202858e-01, 5.31797142e-01],\n",
       "       [7.86263856e-01, 2.13736144e-01],\n",
       "       [7.14410948e-01, 2.85589052e-01],\n",
       "       [4.77510784e-01, 5.22489216e-01],\n",
       "       [5.46973903e-01, 4.53026097e-01],\n",
       "       [9.93007485e-01, 6.99251485e-03],\n",
       "       [7.78738402e-01, 2.21261598e-01],\n",
       "       [9.72684127e-01, 2.73158727e-02],\n",
       "       [2.31656874e-01, 7.68343126e-01],\n",
       "       [7.32163148e-01, 2.67836852e-01],\n",
       "       [7.58278898e-01, 2.41721102e-01],\n",
       "       [9.80970444e-01, 1.90295564e-02],\n",
       "       [6.52228931e-01, 3.47771069e-01],\n",
       "       [9.77083034e-01, 2.29169661e-02],\n",
       "       [1.33953359e-01, 8.66046641e-01],\n",
       "       [8.68505214e-01, 1.31494786e-01],\n",
       "       [7.28361883e-01, 2.71638117e-01],\n",
       "       [5.15428391e-01, 4.84571609e-01],\n",
       "       [4.38808920e-01, 5.61191080e-01],\n",
       "       [7.05245651e-01, 2.94754349e-01],\n",
       "       [7.32010120e-01, 2.67989880e-01],\n",
       "       [8.29432786e-01, 1.70567214e-01],\n",
       "       [7.42115992e-01, 2.57884008e-01],\n",
       "       [4.97613899e-01, 5.02386101e-01],\n",
       "       [3.10419280e-01, 6.89580720e-01],\n",
       "       [3.66430222e-01, 6.33569778e-01],\n",
       "       [7.82654207e-01, 2.17345793e-01],\n",
       "       [6.20540497e-01, 3.79459503e-01],\n",
       "       [9.41087560e-01, 5.89124405e-02],\n",
       "       [3.13469670e-02, 9.68653033e-01],\n",
       "       [7.66948622e-01, 2.33051378e-01],\n",
       "       [6.31516442e-02, 9.36848356e-01],\n",
       "       [3.96168094e-01, 6.03831906e-01],\n",
       "       [9.38766396e-01, 6.12336045e-02],\n",
       "       [4.24054292e-01, 5.75945708e-01],\n",
       "       [6.42038272e-01, 3.57961728e-01],\n",
       "       [9.40527647e-01, 5.94723533e-02],\n",
       "       [5.76215508e-01, 4.23784492e-01],\n",
       "       [6.52536041e-01, 3.47463959e-01],\n",
       "       [6.77311542e-01, 3.22688458e-01],\n",
       "       [3.45694770e-01, 6.54305230e-01],\n",
       "       [8.02281269e-01, 1.97718731e-01],\n",
       "       [1.05465605e-01, 8.94534395e-01],\n",
       "       [8.75409994e-01, 1.24590006e-01],\n",
       "       [8.64514577e-02, 9.13548542e-01],\n",
       "       [9.59326819e-01, 4.06731811e-02],\n",
       "       [4.47888671e-01, 5.52111329e-01],\n",
       "       [3.21003943e-01, 6.78996057e-01],\n",
       "       [5.83559355e-01, 4.16440645e-01],\n",
       "       [9.59050059e-01, 4.09499410e-02],\n",
       "       [6.46484708e-01, 3.53515292e-01],\n",
       "       [1.99901909e-01, 8.00098091e-01],\n",
       "       [8.66715019e-01, 1.33284981e-01],\n",
       "       [9.18019979e-01, 8.19800207e-02],\n",
       "       [3.63951583e-01, 6.36048417e-01],\n",
       "       [4.63539555e-02, 9.53646044e-01],\n",
       "       [9.99631133e-01, 3.68867295e-04],\n",
       "       [7.74896984e-01, 2.25103016e-01],\n",
       "       [7.37042823e-01, 2.62957177e-01],\n",
       "       [6.33161798e-01, 3.66838202e-01],\n",
       "       [9.98949912e-01, 1.05008848e-03],\n",
       "       [9.02059077e-01, 9.79409234e-02],\n",
       "       [9.66709271e-01, 3.32907289e-02],\n",
       "       [1.87984187e-01, 8.12015813e-01],\n",
       "       [5.39011129e-01, 4.60988871e-01],\n",
       "       [5.63295108e-01, 4.36704892e-01],\n",
       "       [9.78682892e-01, 2.13171082e-02],\n",
       "       [6.29808824e-01, 3.70191176e-01],\n",
       "       [5.79480013e-01, 4.20519987e-01],\n",
       "       [1.54345533e-01, 8.45654467e-01],\n",
       "       [6.55817228e-01, 3.44182772e-01],\n",
       "       [2.55277513e-01, 7.44722487e-01],\n",
       "       [6.24686983e-01, 3.75313017e-01],\n",
       "       [8.17639247e-01, 1.82360753e-01],\n",
       "       [9.68157241e-01, 3.18427587e-02],\n",
       "       [6.77503234e-01, 3.22496766e-01],\n",
       "       [9.88697878e-01, 1.13021218e-02],\n",
       "       [5.77255895e-01, 4.22744105e-01],\n",
       "       [8.70508533e-01, 1.29491467e-01],\n",
       "       [4.46474935e-01, 5.53525065e-01],\n",
       "       [1.16911058e-01, 8.83088942e-01],\n",
       "       [9.66537862e-01, 3.34621383e-02],\n",
       "       [6.64825182e-01, 3.35174818e-01],\n",
       "       [2.11668542e-01, 7.88331458e-01],\n",
       "       [4.86222242e-02, 9.51377776e-01],\n",
       "       [7.99374511e-01, 2.00625489e-01],\n",
       "       [2.87989113e-01, 7.12010887e-01],\n",
       "       [7.03621549e-01, 2.96378451e-01],\n",
       "       [3.53416957e-01, 6.46583043e-01],\n",
       "       [9.55412464e-02, 9.04458754e-01],\n",
       "       [9.05492500e-01, 9.45075001e-02],\n",
       "       [6.36179161e-01, 3.63820839e-01],\n",
       "       [9.73375219e-01, 2.66247806e-02],\n",
       "       [4.83355967e-01, 5.16644033e-01],\n",
       "       [7.98235545e-01, 2.01764455e-01],\n",
       "       [6.47595472e-01, 3.52404528e-01],\n",
       "       [9.76416082e-01, 2.35839184e-02],\n",
       "       [3.79848012e-01, 6.20151988e-01],\n",
       "       [7.68128565e-01, 2.31871435e-01],\n",
       "       [9.98911121e-01, 1.08887893e-03],\n",
       "       [7.37473396e-01, 2.62526604e-01],\n",
       "       [5.61991660e-01, 4.38008340e-01],\n",
       "       [1.18102979e-01, 8.81897021e-01],\n",
       "       [6.04083271e-01, 3.95916729e-01],\n",
       "       [3.93975254e-01, 6.06024746e-01],\n",
       "       [2.80361095e-01, 7.19638905e-01],\n",
       "       [6.87548626e-01, 3.12451374e-01],\n",
       "       [4.77023478e-01, 5.22976522e-01],\n",
       "       [7.58132063e-01, 2.41867937e-01],\n",
       "       [8.75752556e-01, 1.24247444e-01],\n",
       "       [7.73845459e-01, 2.26154541e-01],\n",
       "       [8.38476888e-01, 1.61523112e-01],\n",
       "       [7.77922591e-01, 2.22077409e-01],\n",
       "       [7.91069575e-01, 2.08930425e-01],\n",
       "       [1.27461187e-01, 8.72538813e-01],\n",
       "       [9.77665110e-01, 2.23348902e-02],\n",
       "       [6.60785907e-01, 3.39214093e-01],\n",
       "       [2.56335308e-01, 7.43664692e-01],\n",
       "       [9.02512357e-01, 9.74876427e-02],\n",
       "       [1.11259387e-01, 8.88740613e-01],\n",
       "       [9.25448193e-02, 9.07455181e-01],\n",
       "       [6.03595085e-02, 9.39640492e-01],\n",
       "       [9.86094172e-01, 1.39058275e-02],\n",
       "       [2.70553643e-01, 7.29446357e-01],\n",
       "       [7.52286783e-01, 2.47713217e-01],\n",
       "       [9.49419017e-01, 5.05809834e-02],\n",
       "       [8.31952793e-01, 1.68047207e-01],\n",
       "       [9.15655703e-01, 8.43442968e-02],\n",
       "       [5.73909279e-01, 4.26090721e-01],\n",
       "       [9.72049651e-02, 9.02795035e-01],\n",
       "       [7.89830907e-01, 2.10169093e-01],\n",
       "       [9.68534700e-01, 3.14652998e-02],\n",
       "       [4.16845476e-02, 9.58315452e-01],\n",
       "       [1.03006562e-01, 8.96993438e-01],\n",
       "       [8.33227811e-01, 1.66772189e-01],\n",
       "       [2.19316485e-01, 7.80683515e-01],\n",
       "       [6.23768187e-01, 3.76231813e-01],\n",
       "       [9.52000144e-01, 4.79998560e-02],\n",
       "       [4.78560608e-01, 5.21439392e-01],\n",
       "       [6.03061747e-01, 3.96938253e-01],\n",
       "       [2.28201211e-01, 7.71798789e-01],\n",
       "       [6.84095868e-01, 3.15904132e-01],\n",
       "       [3.84063581e-02, 9.61593642e-01],\n",
       "       [6.45424358e-01, 3.54575642e-01],\n",
       "       [3.49716900e-01, 6.50283100e-01],\n",
       "       [3.54636823e-02, 9.64536318e-01],\n",
       "       [8.42160734e-01, 1.57839266e-01],\n",
       "       [1.56264076e-01, 8.43735924e-01],\n",
       "       [5.71757309e-01, 4.28242691e-01],\n",
       "       [6.44420056e-02, 9.35557994e-01],\n",
       "       [4.02409514e-01, 5.97590486e-01],\n",
       "       [2.24469758e-01, 7.75530242e-01],\n",
       "       [3.03157895e-01, 6.96842105e-01],\n",
       "       [4.88557271e-01, 5.11442729e-01],\n",
       "       [8.96708056e-01, 1.03291944e-01],\n",
       "       [4.87495675e-01, 5.12504325e-01],\n",
       "       [9.96506176e-01, 3.49382369e-03],\n",
       "       [9.56541245e-01, 4.34587546e-02],\n",
       "       [8.17977159e-01, 1.82022841e-01],\n",
       "       [8.34124151e-01, 1.65875849e-01],\n",
       "       [5.71471309e-01, 4.28528691e-01],\n",
       "       [5.25769568e-01, 4.74230432e-01],\n",
       "       [2.82627543e-01, 7.17372457e-01],\n",
       "       [4.55537316e-01, 5.44462684e-01],\n",
       "       [4.25992489e-01, 5.74007511e-01],\n",
       "       [8.83181020e-01, 1.16818980e-01],\n",
       "       [1.45554363e-01, 8.54445637e-01],\n",
       "       [8.43120237e-01, 1.56879763e-01],\n",
       "       [1.45867280e-01, 8.54132720e-01],\n",
       "       [6.22894713e-01, 3.77105287e-01],\n",
       "       [1.59192552e-01, 8.40807448e-01],\n",
       "       [1.45979143e-01, 8.54020857e-01],\n",
       "       [6.05369082e-01, 3.94630918e-01],\n",
       "       [4.62086801e-01, 5.37913199e-01]])"
      ]
     },
     "execution_count": 78,
     "metadata": {},
     "output_type": "execute_result"
    }
   ],
   "source": [
    "predicted_proba"
   ]
  },
  {
   "cell_type": "code",
   "execution_count": 79,
   "id": "3c3e1f3a",
   "metadata": {},
   "outputs": [
    {
     "data": {
      "text/plain": [
       "array([[265, 105],\n",
       "       [ 24,  47]], dtype=int64)"
      ]
     },
     "execution_count": 79,
     "metadata": {},
     "output_type": "execute_result"
    }
   ],
   "source": [
    "from sklearn.metrics import confusion_matrix\n",
    "cf = confusion_matrix(y_test,predicted_values)\n",
    "cf"
   ]
  },
  {
   "cell_type": "code",
   "execution_count": 80,
   "id": "0c397219",
   "metadata": {},
   "outputs": [
    {
     "data": {
      "image/png": "[encoded data removed]",
      "text/plain": [
       "<Figure size 640x480 with 1 Axes>"
      ]
     },
     "metadata": {},
     "output_type": "display_data"
    }
   ],
   "source": [
    "## Creating heatmap for confusion matrix\n",
    "\n",
    "sns.heatmap(cf, annot=True, fmt='d', cmap='Blues', cbar=False,\n",
    "            xticklabels=['Predicted 0', 'Predicted 1'],\n",
    "            yticklabels=['Actual 0', 'Actual 1'])\n",
    "plt.xlabel('Predicted')\n",
    "plt.ylabel('Actual')\n",
    "plt.title('Confusion Matrix')\n",
    "plt.show()"
   ]
  },
  {
   "cell_type": "code",
   "execution_count": 81,
   "id": "cd31d283",
   "metadata": {},
   "outputs": [
    {
     "name": "stdout",
     "output_type": "stream",
     "text": [
      "              precision    recall  f1-score   support\n",
      "\n",
      "           0       0.92      0.72      0.80       370\n",
      "           1       0.31      0.66      0.42        71\n",
      "\n",
      "    accuracy                           0.71       441\n",
      "   macro avg       0.61      0.69      0.61       441\n",
      "weighted avg       0.82      0.71      0.74       441\n",
      "\n"
     ]
    }
   ],
   "source": [
    "from sklearn.metrics import classification_report\n",
    "k = classification_report(y_test,predicted_values)\n",
    "print(k)"
   ]
  },
  {
   "cell_type": "code",
   "execution_count": 82,
   "id": "8032620a",
   "metadata": {},
   "outputs": [
    {
     "data": {
      "text/plain": [
       "((442,), (442,), (441,))"
      ]
     },
     "execution_count": 82,
     "metadata": {},
     "output_type": "execute_result"
    }
   ],
   "source": [
    "## Gathering Precision/Recall score for different thresholds\n",
    "\n",
    "from sklearn.metrics import precision_recall_curve\n",
    "precision_points, recall_points, threshold_points = precision_recall_curve(y_test,predicted_proba[:,1])\n",
    "precision_points.shape, recall_points.shape, threshold_points.shape"
   ]
  },
  {
   "cell_type": "code",
   "execution_count": 83,
   "id": "7d81b68d",
   "metadata": {},
   "outputs": [
    {
     "data": {
      "text/plain": [
       "<matplotlib.legend.Legend at 0x1a64c0f0dc0>"
      ]
     },
     "execution_count": 83,
     "metadata": {},
     "output_type": "execute_result"
    },
    {
     "data": {
      "image/png": "[encoded data removed]",
      "text/plain": [
       "<Figure size 700x500 with 1 Axes>"
      ]
     },
     "metadata": {},
     "output_type": "display_data"
    }
   ],
   "source": [
    "plt.figure(figsize =(7,5), dpi = 100)\n",
    "plt.plot(threshold_points, precision_points[:-1],color = 'green', label='Precision')\n",
    "plt.plot(threshold_points, recall_points[:-1], color = 'orange', label='Recall')\n",
    "plt.xlabel('Threshold Points',fontsize = 15)\n",
    "plt.ylabel('Score',fontsize = 15)\n",
    "plt.title('Precision-Recall tradeoff', fontsize = 20)\n",
    "plt.legend()"
   ]
  },
  {
   "cell_type": "markdown",
   "id": "caaf0151",
   "metadata": {},
   "source": [
    "### Plotting Aoc Roc Cutve"
   ]
  },
  {
   "cell_type": "code",
   "execution_count": 84,
   "id": "389d26bb",
   "metadata": {},
   "outputs": [],
   "source": [
    "from sklearn.metrics import roc_curve,roc_auc_score\n",
    "fpr,tpr,threshold = roc_curve(y_test,predicted_proba[:,1])"
   ]
  },
  {
   "cell_type": "code",
   "execution_count": 85,
   "id": "b372d568",
   "metadata": {},
   "outputs": [
    {
     "data": {
      "image/png": "[encoded data removed]",
      "text/plain": [
       "<Figure size 700x500 with 1 Axes>"
      ]
     },
     "metadata": {},
     "output_type": "display_data"
    },
    {
     "data": {
      "text/plain": [
       "0.7617814998096688"
      ]
     },
     "execution_count": 85,
     "metadata": {},
     "output_type": "execute_result"
    }
   ],
   "source": [
    "plt.figure(figsize = (7,5), dpi = 100)\n",
    "plt.plot(fpr,tpr,color = 'green')\n",
    "plt.plot([0,1],[0,1], label ='baseline',color ='red')\n",
    "plt.xlabel('FPR', fontsize = 15)\n",
    "plt.ylabel('TPR', fontsize = 15)\n",
    "plt.title('AUC-ROC', fontsize = 20)\n",
    "plt.show()\n",
    "roc_auc_score(y_test,predicted_proba[:,1])"
   ]
  },
  {
   "cell_type": "markdown",
   "id": "e8520b17",
   "metadata": {},
   "source": [
    "### Coefficient PLot"
   ]
  },
  {
   "cell_type": "code",
   "execution_count": 86,
   "id": "190a514a",
   "metadata": {},
   "outputs": [
    {
     "data": {
      "text/html": [
       "<div>\n",
       "<style scoped>\n",
       "    .dataframe tbody tr th:only-of-type {\n",
       "        vertical-align: middle;\n",
       "    }\n",
       "\n",
       "    .dataframe tbody tr th {\n",
       "        vertical-align: top;\n",
       "    }\n",
       "\n",
       "    .dataframe thead th {\n",
       "        text-align: right;\n",
       "    }\n",
       "</style>\n",
       "<table border=\"1\" class=\"dataframe\">\n",
       "  <thead>\n",
       "    <tr style=\"text-align: right;\">\n",
       "      <th></th>\n",
       "      <th>coefficient</th>\n",
       "      <th>variables</th>\n",
       "    </tr>\n",
       "  </thead>\n",
       "  <tbody>\n",
       "    <tr>\n",
       "      <th>22</th>\n",
       "      <td>-0.721162</td>\n",
       "      <td>TotalWorkingYears</td>\n",
       "    </tr>\n",
       "    <tr>\n",
       "      <th>14</th>\n",
       "      <td>-0.540519</td>\n",
       "      <td>MonthlyIncome</td>\n",
       "    </tr>\n",
       "    <tr>\n",
       "      <th>28</th>\n",
       "      <td>-0.534640</td>\n",
       "      <td>YearsWithCurrManager</td>\n",
       "    </tr>\n",
       "    <tr>\n",
       "      <th>12</th>\n",
       "      <td>-0.508551</td>\n",
       "      <td>JobSatisfaction</td>\n",
       "    </tr>\n",
       "    <tr>\n",
       "      <th>6</th>\n",
       "      <td>-0.507554</td>\n",
       "      <td>EnvironmentSatisfaction</td>\n",
       "    </tr>\n",
       "  </tbody>\n",
       "</table>\n",
       "</div>"
      ],
      "text/plain": [
       "    coefficient                variables\n",
       "22    -0.721162        TotalWorkingYears\n",
       "14    -0.540519            MonthlyIncome\n",
       "28    -0.534640     YearsWithCurrManager\n",
       "12    -0.508551          JobSatisfaction\n",
       "6     -0.507554  EnvironmentSatisfaction"
      ]
     },
     "execution_count": 86,
     "metadata": {},
     "output_type": "execute_result"
    }
   ],
   "source": [
    "c = classifier.coef_.reshape(-1)\n",
    "x = x.columns\n",
    "\n",
    "coef_plot = pd.DataFrame({\n",
    "                           'coefficient':c,\n",
    "                           'variables': x\n",
    "                          })\n",
    "\n",
    "# sorting the values\n",
    "coef_plot = coef_plot.sort_values(by = 'coefficient')\n",
    "coef_plot.head()"
   ]
  },
  {
   "cell_type": "code",
   "execution_count": 87,
   "id": "bffd06e8",
   "metadata": {},
   "outputs": [
    {
     "data": {
      "text/plain": [
       "Text(0.5, 1.0, 'Coefficient plot')"
      ]
     },
     "execution_count": 87,
     "metadata": {},
     "output_type": "execute_result"
    },
    {
     "data": {
      "image/png": "[encoded data removed]",
      "text/plain": [
       "<Figure size 960x720 with 1 Axes>"
      ]
     },
     "metadata": {},
     "output_type": "display_data"
    }
   ],
   "source": [
    "plt.figure(figsize=(8,6),dpi=120)\n",
    "plt.barh(coef_plot['variables'], coef_plot['coefficient'])\n",
    "plt.xlabel('Cofficient Magnitude',fontsize = 15)\n",
    "plt.ylabel('Variables',fontsize=15)\n",
    "plt.title('Coefficient plot', fontsize =20)"
   ]
  },
  {
   "cell_type": "code",
   "execution_count": null,
   "id": "341a97ea",
   "metadata": {},
   "outputs": [],
   "source": []
  }
 ],
 "metadata": {
  "kernelspec": {
   "display_name": "Python 3 (ipykernel)",
   "language": "python",
   "name": "python3"
  },
  "language_info": {
   "codemirror_mode": {
    "name": "ipython",
    "version": 3
   },
   "file_extension": ".py",
   "mimetype": "text/x-python",
   "name": "python",
   "nbconvert_exporter": "python",
   "pygments_lexer": "ipython3",
   "version": "3.10.13"
  }
 },
 "nbformat": 4,
 "nbformat_minor": 5
}
